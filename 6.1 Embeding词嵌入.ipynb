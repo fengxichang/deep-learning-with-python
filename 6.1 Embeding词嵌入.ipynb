{
 "cells": [
  {
   "cell_type": "markdown",
   "id": "7a763940",
   "metadata": {},
   "source": [
    "### one-hot编码示例"
   ]
  },
  {
   "cell_type": "code",
   "execution_count": 46,
   "id": "13c84b84",
   "metadata": {},
   "outputs": [],
   "source": [
    "import numpy as np\n",
    "\n",
    "samples = ['The cat sat on the mat.', 'The dog ate my homework.']"
   ]
  },
  {
   "cell_type": "code",
   "execution_count": 47,
   "id": "295cb5eb",
   "metadata": {},
   "outputs": [],
   "source": [
    "token_index = {}\n",
    "\n",
    "for sample in samples:\n",
    "    for word in sample.split():\n",
    "        if word not in token_index:\n",
    "            token_index[word] = len(token_index) + 1\n",
    "            \n",
    "max_length = 10            \n",
    "\n",
    "results = np.zeros(shape=(len(samples), max_length, max(token_index.values()) + 1))"
   ]
  },
  {
   "cell_type": "code",
   "execution_count": 48,
   "id": "73967790",
   "metadata": {},
   "outputs": [
    {
     "data": {
      "text/plain": [
       "(2, 10, 11)"
      ]
     },
     "execution_count": 48,
     "metadata": {},
     "output_type": "execute_result"
    }
   ],
   "source": [
    "results.shape"
   ]
  },
  {
   "cell_type": "code",
   "execution_count": 49,
   "id": "c5a0b38d",
   "metadata": {},
   "outputs": [],
   "source": [
    "for i, sample in enumerate(samples):\n",
    "    for j, word in list(enumerate(sample.split()))[:max_length]:\n",
    "        index = token_index[word]\n",
    "        results[i, j, index] = 1."
   ]
  },
  {
   "cell_type": "code",
   "execution_count": 50,
   "id": "473811b9",
   "metadata": {},
   "outputs": [
    {
     "data": {
      "text/plain": [
       "array([[[0., 1., 0., 0., 0., 0., 0., 0., 0., 0., 0.],\n",
       "        [0., 0., 1., 0., 0., 0., 0., 0., 0., 0., 0.],\n",
       "        [0., 0., 0., 1., 0., 0., 0., 0., 0., 0., 0.],\n",
       "        [0., 0., 0., 0., 1., 0., 0., 0., 0., 0., 0.],\n",
       "        [0., 0., 0., 0., 0., 1., 0., 0., 0., 0., 0.],\n",
       "        [0., 0., 0., 0., 0., 0., 1., 0., 0., 0., 0.],\n",
       "        [0., 0., 0., 0., 0., 0., 0., 0., 0., 0., 0.],\n",
       "        [0., 0., 0., 0., 0., 0., 0., 0., 0., 0., 0.],\n",
       "        [0., 0., 0., 0., 0., 0., 0., 0., 0., 0., 0.],\n",
       "        [0., 0., 0., 0., 0., 0., 0., 0., 0., 0., 0.]],\n",
       "\n",
       "       [[0., 1., 0., 0., 0., 0., 0., 0., 0., 0., 0.],\n",
       "        [0., 0., 0., 0., 0., 0., 0., 1., 0., 0., 0.],\n",
       "        [0., 0., 0., 0., 0., 0., 0., 0., 1., 0., 0.],\n",
       "        [0., 0., 0., 0., 0., 0., 0., 0., 0., 1., 0.],\n",
       "        [0., 0., 0., 0., 0., 0., 0., 0., 0., 0., 1.],\n",
       "        [0., 0., 0., 0., 0., 0., 0., 0., 0., 0., 0.],\n",
       "        [0., 0., 0., 0., 0., 0., 0., 0., 0., 0., 0.],\n",
       "        [0., 0., 0., 0., 0., 0., 0., 0., 0., 0., 0.],\n",
       "        [0., 0., 0., 0., 0., 0., 0., 0., 0., 0., 0.],\n",
       "        [0., 0., 0., 0., 0., 0., 0., 0., 0., 0., 0.]]])"
      ]
     },
     "execution_count": 50,
     "metadata": {},
     "output_type": "execute_result"
    }
   ],
   "source": [
    "results"
   ]
  },
  {
   "cell_type": "markdown",
   "id": "db1a13ea",
   "metadata": {},
   "source": [
    "### keras实现one-hot编码"
   ]
  },
  {
   "cell_type": "code",
   "execution_count": 51,
   "id": "55bdeb83",
   "metadata": {},
   "outputs": [],
   "source": [
    "from keras.preprocessing.text import Tokenizer\n",
    "\n",
    "samples = ['The cat sat on the mat.', 'The dog ate my homework.']\n",
    "\n",
    "tokenizer = Tokenizer(num_words=1000)\n",
    "tokenizer.fit_on_texts(samples)\n",
    "\n",
    "sequences = tokenizer.texts_to_sequences(samples)"
   ]
  },
  {
   "cell_type": "code",
   "execution_count": 52,
   "id": "8f652a69",
   "metadata": {},
   "outputs": [
    {
     "data": {
      "text/plain": [
       "[[1, 2, 3, 4, 1, 5], [1, 6, 7, 8, 9]]"
      ]
     },
     "execution_count": 52,
     "metadata": {},
     "output_type": "execute_result"
    }
   ],
   "source": [
    "sequences"
   ]
  },
  {
   "cell_type": "code",
   "execution_count": 53,
   "id": "52553717",
   "metadata": {},
   "outputs": [],
   "source": [
    "one_hot_results = tokenizer.texts_to_matrix(samples, mode='binary')"
   ]
  },
  {
   "cell_type": "code",
   "execution_count": 54,
   "id": "1955023d",
   "metadata": {},
   "outputs": [
    {
     "data": {
      "text/plain": [
       "array([[0., 1., 1., ..., 0., 0., 0.],\n",
       "       [0., 1., 0., ..., 0., 0., 0.]])"
      ]
     },
     "execution_count": 54,
     "metadata": {},
     "output_type": "execute_result"
    }
   ],
   "source": [
    "one_hot_results"
   ]
  },
  {
   "cell_type": "code",
   "execution_count": 55,
   "id": "2dd8d6c6",
   "metadata": {},
   "outputs": [],
   "source": [
    "work_index = tokenizer.word_index"
   ]
  },
  {
   "cell_type": "code",
   "execution_count": 56,
   "id": "971feb64",
   "metadata": {},
   "outputs": [
    {
     "data": {
      "text/plain": [
       "{'the': 1,\n",
       " 'cat': 2,\n",
       " 'sat': 3,\n",
       " 'on': 4,\n",
       " 'mat': 5,\n",
       " 'dog': 6,\n",
       " 'ate': 7,\n",
       " 'my': 8,\n",
       " 'homework': 9}"
      ]
     },
     "execution_count": 56,
     "metadata": {},
     "output_type": "execute_result"
    }
   ],
   "source": [
    "work_index"
   ]
  },
  {
   "cell_type": "markdown",
   "id": "e48f2006",
   "metadata": {},
   "source": [
    "### 字符级one-hot编码"
   ]
  },
  {
   "cell_type": "code",
   "execution_count": 57,
   "id": "eedb5f00",
   "metadata": {},
   "outputs": [],
   "source": [
    "import string\n",
    "samples = ['The cat sat on the mat.', 'The dog ate my homework.']\n",
    "characters = string.printable \n",
    "token_index = dict(zip(range(1, len(characters) + 1), characters))\n",
    "max_length = 50\n",
    "results = np.zeros((len(samples), max_length, max(token_index.keys()) + 1)) \n",
    "for i, sample in enumerate(samples):\n",
    "    for j, character in enumerate(sample):\n",
    "        index = token_index.get(character)\n",
    "        results[i, j, index] = 1."
   ]
  },
  {
   "cell_type": "code",
   "execution_count": 58,
   "id": "47828b76",
   "metadata": {},
   "outputs": [
    {
     "data": {
      "text/plain": [
       "array([[[1., 1., 1., ..., 1., 1., 1.],\n",
       "        [1., 1., 1., ..., 1., 1., 1.],\n",
       "        [1., 1., 1., ..., 1., 1., 1.],\n",
       "        ...,\n",
       "        [0., 0., 0., ..., 0., 0., 0.],\n",
       "        [0., 0., 0., ..., 0., 0., 0.],\n",
       "        [0., 0., 0., ..., 0., 0., 0.]],\n",
       "\n",
       "       [[1., 1., 1., ..., 1., 1., 1.],\n",
       "        [1., 1., 1., ..., 1., 1., 1.],\n",
       "        [1., 1., 1., ..., 1., 1., 1.],\n",
       "        ...,\n",
       "        [0., 0., 0., ..., 0., 0., 0.],\n",
       "        [0., 0., 0., ..., 0., 0., 0.],\n",
       "        [0., 0., 0., ..., 0., 0., 0.]]])"
      ]
     },
     "execution_count": 58,
     "metadata": {},
     "output_type": "execute_result"
    }
   ],
   "source": [
    "results"
   ]
  },
  {
   "cell_type": "code",
   "execution_count": 59,
   "id": "4dc3da9d",
   "metadata": {},
   "outputs": [
    {
     "data": {
      "text/plain": [
       "(2, 50, 101)"
      ]
     },
     "execution_count": 59,
     "metadata": {},
     "output_type": "execute_result"
    }
   ],
   "source": [
    "results.shape"
   ]
  },
  {
   "cell_type": "markdown",
   "id": "954f1743",
   "metadata": {},
   "source": [
    "### 单词级one-hot编码"
   ]
  },
  {
   "cell_type": "code",
   "execution_count": 60,
   "id": "bc4a1e86",
   "metadata": {},
   "outputs": [],
   "source": [
    "import numpy as np\n",
    "samples = ['The cat sat on the mat.', 'The dog ate my homework.'] \n",
    "token_index = {} \n",
    "for sample in samples:\n",
    "    for word in sample.split(): \n",
    "        if word not in token_index:\n",
    "            token_index[word] = len(token_index) + 1 \n",
    "max_length = 10 \n",
    "results = np.zeros(shape=(len(samples),\n",
    " max_length,\n",
    " max(token_index.values()) + 1)) \n",
    "for i, sample in enumerate(samples):\n",
    "    for j, word in list(enumerate(sample.split()))[:max_length]:\n",
    "        index = token_index.get(word)\n",
    "        results[i, j, index] = 1."
   ]
  },
  {
   "cell_type": "code",
   "execution_count": 61,
   "id": "2b70c1cd",
   "metadata": {},
   "outputs": [
    {
     "data": {
      "text/plain": [
       "array([[[0., 1., 0., 0., 0., 0., 0., 0., 0., 0., 0.],\n",
       "        [0., 0., 1., 0., 0., 0., 0., 0., 0., 0., 0.],\n",
       "        [0., 0., 0., 1., 0., 0., 0., 0., 0., 0., 0.],\n",
       "        [0., 0., 0., 0., 1., 0., 0., 0., 0., 0., 0.],\n",
       "        [0., 0., 0., 0., 0., 1., 0., 0., 0., 0., 0.],\n",
       "        [0., 0., 0., 0., 0., 0., 1., 0., 0., 0., 0.],\n",
       "        [0., 0., 0., 0., 0., 0., 0., 0., 0., 0., 0.],\n",
       "        [0., 0., 0., 0., 0., 0., 0., 0., 0., 0., 0.],\n",
       "        [0., 0., 0., 0., 0., 0., 0., 0., 0., 0., 0.],\n",
       "        [0., 0., 0., 0., 0., 0., 0., 0., 0., 0., 0.]],\n",
       "\n",
       "       [[0., 1., 0., 0., 0., 0., 0., 0., 0., 0., 0.],\n",
       "        [0., 0., 0., 0., 0., 0., 0., 1., 0., 0., 0.],\n",
       "        [0., 0., 0., 0., 0., 0., 0., 0., 1., 0., 0.],\n",
       "        [0., 0., 0., 0., 0., 0., 0., 0., 0., 1., 0.],\n",
       "        [0., 0., 0., 0., 0., 0., 0., 0., 0., 0., 1.],\n",
       "        [0., 0., 0., 0., 0., 0., 0., 0., 0., 0., 0.],\n",
       "        [0., 0., 0., 0., 0., 0., 0., 0., 0., 0., 0.],\n",
       "        [0., 0., 0., 0., 0., 0., 0., 0., 0., 0., 0.],\n",
       "        [0., 0., 0., 0., 0., 0., 0., 0., 0., 0., 0.],\n",
       "        [0., 0., 0., 0., 0., 0., 0., 0., 0., 0., 0.]]])"
      ]
     },
     "execution_count": 61,
     "metadata": {},
     "output_type": "execute_result"
    }
   ],
   "source": [
    "results"
   ]
  },
  {
   "cell_type": "code",
   "execution_count": 62,
   "id": "9dd6dab9",
   "metadata": {},
   "outputs": [
    {
     "data": {
      "text/plain": [
       "(2, 10, 11)"
      ]
     },
     "execution_count": 62,
     "metadata": {},
     "output_type": "execute_result"
    }
   ],
   "source": [
    "results.shape"
   ]
  },
  {
   "cell_type": "markdown",
   "id": "f6ffebbc",
   "metadata": {},
   "source": [
    "### 使用embeding层训练一个词嵌入"
   ]
  },
  {
   "cell_type": "code",
   "execution_count": 63,
   "id": "a09b63cd",
   "metadata": {},
   "outputs": [],
   "source": [
    "from keras.datasets import imdb\n",
    "from keras.utils import pad_sequences\n",
    "\n",
    "max_features = 10000\n",
    "maxlen = 20\n",
    "\n",
    "(x_train, y_train), (x_test, y_test) = imdb.load_data(num_words=max_features)"
   ]
  },
  {
   "cell_type": "code",
   "execution_count": 64,
   "id": "83c4866b",
   "metadata": {},
   "outputs": [
    {
     "data": {
      "text/plain": [
       "array([list([1, 14, 22, 16, 43, 530, 973, 1622, 1385, 65, 458, 4468, 66, 3941, 4, 173, 36, 256, 5, 25, 100, 43, 838, 112, 50, 670, 2, 9, 35, 480, 284, 5, 150, 4, 172, 112, 167, 2, 336, 385, 39, 4, 172, 4536, 1111, 17, 546, 38, 13, 447, 4, 192, 50, 16, 6, 147, 2025, 19, 14, 22, 4, 1920, 4613, 469, 4, 22, 71, 87, 12, 16, 43, 530, 38, 76, 15, 13, 1247, 4, 22, 17, 515, 17, 12, 16, 626, 18, 2, 5, 62, 386, 12, 8, 316, 8, 106, 5, 4, 2223, 5244, 16, 480, 66, 3785, 33, 4, 130, 12, 16, 38, 619, 5, 25, 124, 51, 36, 135, 48, 25, 1415, 33, 6, 22, 12, 215, 28, 77, 52, 5, 14, 407, 16, 82, 2, 8, 4, 107, 117, 5952, 15, 256, 4, 2, 7, 3766, 5, 723, 36, 71, 43, 530, 476, 26, 400, 317, 46, 7, 4, 2, 1029, 13, 104, 88, 4, 381, 15, 297, 98, 32, 2071, 56, 26, 141, 6, 194, 7486, 18, 4, 226, 22, 21, 134, 476, 26, 480, 5, 144, 30, 5535, 18, 51, 36, 28, 224, 92, 25, 104, 4, 226, 65, 16, 38, 1334, 88, 12, 16, 283, 5, 16, 4472, 113, 103, 32, 15, 16, 5345, 19, 178, 32]),\n",
       "       list([1, 194, 1153, 194, 8255, 78, 228, 5, 6, 1463, 4369, 5012, 134, 26, 4, 715, 8, 118, 1634, 14, 394, 20, 13, 119, 954, 189, 102, 5, 207, 110, 3103, 21, 14, 69, 188, 8, 30, 23, 7, 4, 249, 126, 93, 4, 114, 9, 2300, 1523, 5, 647, 4, 116, 9, 35, 8163, 4, 229, 9, 340, 1322, 4, 118, 9, 4, 130, 4901, 19, 4, 1002, 5, 89, 29, 952, 46, 37, 4, 455, 9, 45, 43, 38, 1543, 1905, 398, 4, 1649, 26, 6853, 5, 163, 11, 3215, 2, 4, 1153, 9, 194, 775, 7, 8255, 2, 349, 2637, 148, 605, 2, 8003, 15, 123, 125, 68, 2, 6853, 15, 349, 165, 4362, 98, 5, 4, 228, 9, 43, 2, 1157, 15, 299, 120, 5, 120, 174, 11, 220, 175, 136, 50, 9, 4373, 228, 8255, 5, 2, 656, 245, 2350, 5, 4, 9837, 131, 152, 491, 18, 2, 32, 7464, 1212, 14, 9, 6, 371, 78, 22, 625, 64, 1382, 9, 8, 168, 145, 23, 4, 1690, 15, 16, 4, 1355, 5, 28, 6, 52, 154, 462, 33, 89, 78, 285, 16, 145, 95]),\n",
       "       list([1, 14, 47, 8, 30, 31, 7, 4, 249, 108, 7, 4, 5974, 54, 61, 369, 13, 71, 149, 14, 22, 112, 4, 2401, 311, 12, 16, 3711, 33, 75, 43, 1829, 296, 4, 86, 320, 35, 534, 19, 263, 4821, 1301, 4, 1873, 33, 89, 78, 12, 66, 16, 4, 360, 7, 4, 58, 316, 334, 11, 4, 1716, 43, 645, 662, 8, 257, 85, 1200, 42, 1228, 2578, 83, 68, 3912, 15, 36, 165, 1539, 278, 36, 69, 2, 780, 8, 106, 14, 6905, 1338, 18, 6, 22, 12, 215, 28, 610, 40, 6, 87, 326, 23, 2300, 21, 23, 22, 12, 272, 40, 57, 31, 11, 4, 22, 47, 6, 2307, 51, 9, 170, 23, 595, 116, 595, 1352, 13, 191, 79, 638, 89, 2, 14, 9, 8, 106, 607, 624, 35, 534, 6, 227, 7, 129, 113]),\n",
       "       ...,\n",
       "       list([1, 11, 6, 230, 245, 6401, 9, 6, 1225, 446, 2, 45, 2174, 84, 8322, 4007, 21, 4, 912, 84, 2, 325, 725, 134, 2, 1715, 84, 5, 36, 28, 57, 1099, 21, 8, 140, 8, 703, 5, 2, 84, 56, 18, 1644, 14, 9, 31, 7, 4, 9406, 1209, 2295, 2, 1008, 18, 6, 20, 207, 110, 563, 12, 8, 2901, 2, 8, 97, 6, 20, 53, 4767, 74, 4, 460, 364, 1273, 29, 270, 11, 960, 108, 45, 40, 29, 2961, 395, 11, 6, 4065, 500, 7, 2, 89, 364, 70, 29, 140, 4, 64, 4780, 11, 4, 2678, 26, 178, 4, 529, 443, 2, 5, 27, 710, 117, 2, 8123, 165, 47, 84, 37, 131, 818, 14, 595, 10, 10, 61, 1242, 1209, 10, 10, 288, 2260, 1702, 34, 2901, 2, 4, 65, 496, 4, 231, 7, 790, 5, 6, 320, 234, 2766, 234, 1119, 1574, 7, 496, 4, 139, 929, 2901, 2, 7750, 5, 4241, 18, 4, 8497, 2, 250, 11, 1818, 7561, 4, 4217, 5408, 747, 1115, 372, 1890, 1006, 541, 9303, 7, 4, 59, 2, 4, 3586, 2]),\n",
       "       list([1, 1446, 7079, 69, 72, 3305, 13, 610, 930, 8, 12, 582, 23, 5, 16, 484, 685, 54, 349, 11, 4120, 2959, 45, 58, 1466, 13, 197, 12, 16, 43, 23, 2, 5, 62, 30, 145, 402, 11, 4131, 51, 575, 32, 61, 369, 71, 66, 770, 12, 1054, 75, 100, 2198, 8, 4, 105, 37, 69, 147, 712, 75, 3543, 44, 257, 390, 5, 69, 263, 514, 105, 50, 286, 1814, 23, 4, 123, 13, 161, 40, 5, 421, 4, 116, 16, 897, 13, 2, 40, 319, 5872, 112, 6700, 11, 4803, 121, 25, 70, 3468, 4, 719, 3798, 13, 18, 31, 62, 40, 8, 7200, 4, 2, 7, 14, 123, 5, 942, 25, 8, 721, 12, 145, 5, 202, 12, 160, 580, 202, 12, 6, 52, 58, 2, 92, 401, 728, 12, 39, 14, 251, 8, 15, 251, 5, 2, 12, 38, 84, 80, 124, 12, 9, 23]),\n",
       "       list([1, 17, 6, 194, 337, 7, 4, 204, 22, 45, 254, 8, 106, 14, 123, 4, 2, 270, 2, 5, 2, 2, 732, 2098, 101, 405, 39, 14, 1034, 4, 1310, 9, 115, 50, 305, 12, 47, 4, 168, 5, 235, 7, 38, 111, 699, 102, 7, 4, 4039, 9245, 9, 24, 6, 78, 1099, 17, 2345, 2, 21, 27, 9685, 6139, 5, 2, 1603, 92, 1183, 4, 1310, 7, 4, 204, 42, 97, 90, 35, 221, 109, 29, 127, 27, 118, 8, 97, 12, 157, 21, 6789, 2, 9, 6, 66, 78, 1099, 4, 631, 1191, 5, 2642, 272, 191, 1070, 6, 7585, 8, 2197, 2, 2, 544, 5, 383, 1271, 848, 1468, 2, 497, 2, 8, 1597, 8778, 2, 21, 60, 27, 239, 9, 43, 8368, 209, 405, 10, 10, 12, 764, 40, 4, 248, 20, 12, 16, 5, 174, 1791, 72, 7, 51, 6, 1739, 22, 4, 204, 131, 9])],\n",
       "      dtype=object)"
      ]
     },
     "execution_count": 64,
     "metadata": {},
     "output_type": "execute_result"
    }
   ],
   "source": [
    "x_train"
   ]
  },
  {
   "cell_type": "code",
   "execution_count": 65,
   "id": "41feacf8",
   "metadata": {},
   "outputs": [],
   "source": [
    "x_train = pad_sequences(x_train, maxlen=maxlen)\n",
    "x_test = pad_sequences(x_test, maxlen=maxlen)"
   ]
  },
  {
   "cell_type": "code",
   "execution_count": 66,
   "id": "971fa992",
   "metadata": {},
   "outputs": [
    {
     "data": {
      "text/plain": [
       "(25000, 20)"
      ]
     },
     "execution_count": 66,
     "metadata": {},
     "output_type": "execute_result"
    }
   ],
   "source": [
    "x_train.shape"
   ]
  },
  {
   "cell_type": "code",
   "execution_count": 67,
   "id": "941cf60b",
   "metadata": {},
   "outputs": [
    {
     "name": "stdout",
     "output_type": "stream",
     "text": [
      "Model: \"sequential_2\"\n",
      "_________________________________________________________________\n",
      " Layer (type)                Output Shape              Param #   \n",
      "=================================================================\n",
      " embedding_2 (Embedding)     (None, 20, 8)             80000     \n",
      "                                                                 \n",
      " flatten_2 (Flatten)         (None, 160)               0         \n",
      "                                                                 \n",
      " dense_3 (Dense)             (None, 1)                 161       \n",
      "                                                                 \n",
      "=================================================================\n",
      "Total params: 80,161\n",
      "Trainable params: 80,161\n",
      "Non-trainable params: 0\n",
      "_________________________________________________________________\n"
     ]
    }
   ],
   "source": [
    "from keras.models import Sequential\n",
    "from keras.layers import Flatten, Dense, Embedding\n",
    "\n",
    "model = Sequential()\n",
    "model.add(Embedding(max_features, 8, input_length=maxlen))\n",
    "\n",
    "model.add(Flatten())\n",
    "\n",
    "model.add(Dense(1, activation='sigmoid'))\n",
    "model.compile(optimizer='rmsprop', loss='binary_crossentropy', metrics=['acc'])\n",
    "model.summary()"
   ]
  },
  {
   "cell_type": "code",
   "execution_count": 68,
   "id": "589a442a",
   "metadata": {},
   "outputs": [
    {
     "name": "stdout",
     "output_type": "stream",
     "text": [
      "Epoch 1/10\n",
      "625/625 [==============================] - 7s 11ms/step - loss: 0.6722 - acc: 0.6171 - val_loss: 0.6238 - val_acc: 0.6980\n",
      "Epoch 2/10\n",
      "625/625 [==============================] - 5s 9ms/step - loss: 0.5454 - acc: 0.7513 - val_loss: 0.5270 - val_acc: 0.7282\n",
      "Epoch 3/10\n",
      "625/625 [==============================] - 5s 8ms/step - loss: 0.4622 - acc: 0.7872 - val_loss: 0.4990 - val_acc: 0.7456\n",
      "Epoch 4/10\n",
      "625/625 [==============================] - 5s 8ms/step - loss: 0.4225 - acc: 0.8069 - val_loss: 0.4995 - val_acc: 0.7498\n",
      "Epoch 5/10\n",
      "625/625 [==============================] - 5s 8ms/step - loss: 0.3965 - acc: 0.8241 - val_loss: 0.4945 - val_acc: 0.7566\n",
      "Epoch 6/10\n",
      "625/625 [==============================] - 5s 8ms/step - loss: 0.3746 - acc: 0.8344 - val_loss: 0.4964 - val_acc: 0.7566\n",
      "Epoch 7/10\n",
      "625/625 [==============================] - 5s 8ms/step - loss: 0.3550 - acc: 0.8461 - val_loss: 0.5006 - val_acc: 0.7562\n",
      "Epoch 8/10\n",
      "625/625 [==============================] - 5s 8ms/step - loss: 0.3363 - acc: 0.8563 - val_loss: 0.5060 - val_acc: 0.7514\n",
      "Epoch 9/10\n",
      "625/625 [==============================] - 5s 8ms/step - loss: 0.3177 - acc: 0.8663 - val_loss: 0.5132 - val_acc: 0.7524\n",
      "Epoch 10/10\n",
      "625/625 [==============================] - 5s 8ms/step - loss: 0.2998 - acc: 0.8748 - val_loss: 0.5212 - val_acc: 0.7476\n"
     ]
    }
   ],
   "source": [
    "history = model.fit(x_train, y_train, epochs=10, batch_size=32, validation_split=0.2)\n"
   ]
  },
  {
   "cell_type": "markdown",
   "id": "17c6c5d2",
   "metadata": {},
   "source": [
    "### 从原始文本到词嵌入"
   ]
  },
  {
   "cell_type": "code",
   "execution_count": 91,
   "id": "4e6b615c",
   "metadata": {},
   "outputs": [],
   "source": [
    "import os\n",
    "\n",
    "imdb_dir = '../datasets/aclimdb'\n",
    "train_dir = os.path.join(imdb_dir, 'train')\n",
    "\n",
    "labels = []\n",
    "texts = []\n",
    "\n",
    "for label_type in ['neg', 'pos']:\n",
    "    dir_name = os.path.join(train_dir, label_type)\n",
    "    for fname in os.listdir(dir_name):\n",
    "        if fname[-4:] == '.txt':\n",
    "            f = open(os.path.join(dir_name, fname))\n",
    "            texts.append(f.read())\n",
    "            f.close()\n",
    "            if label_type == 'neg':\n",
    "                labels.append(0)\n",
    "            else:\n",
    "                labels.append(1)"
   ]
  },
  {
   "cell_type": "code",
   "execution_count": 92,
   "id": "0f3c6229",
   "metadata": {},
   "outputs": [
    {
     "data": {
      "text/plain": [
       "\"Working with one of the best Shakespeare sources, this film manages to be creditable to it's source, whilst still appealing to a wider audience.<br /><br />Branagh steals the film from under Fishburne's nose, and there's a talented cast on good form.\""
      ]
     },
     "execution_count": 92,
     "metadata": {},
     "output_type": "execute_result"
    }
   ],
   "source": [
    "texts[0]"
   ]
  },
  {
   "cell_type": "code",
   "execution_count": 93,
   "id": "8933fe5f",
   "metadata": {},
   "outputs": [
    {
     "data": {
      "text/plain": [
       "0"
      ]
     },
     "execution_count": 93,
     "metadata": {},
     "output_type": "execute_result"
    }
   ],
   "source": [
    "labels[0]"
   ]
  },
  {
   "cell_type": "markdown",
   "id": "d0009d4b",
   "metadata": {},
   "source": [
    "### 对imdb原始数据进行分词"
   ]
  },
  {
   "cell_type": "code",
   "execution_count": 94,
   "id": "b1dfe2c9",
   "metadata": {},
   "outputs": [
    {
     "name": "stdout",
     "output_type": "stream",
     "text": [
      "Found 88582 unique tokens.\n"
     ]
    }
   ],
   "source": [
    "from keras.preprocessing.text import Tokenizer\n",
    "from keras.utils import pad_sequences\n",
    "import numpy as np\n",
    "\n",
    "maxlen = 200 \n",
    "training_samples = 600 \n",
    "validation_samples = 10000 \n",
    "max_words = 10000 \n",
    "\n",
    "tokenizer = Tokenizer(num_words=max_words)\n",
    "tokenizer.fit_on_texts(texts)\n",
    "sequences = tokenizer.texts_to_sequences(texts)\n",
    "\n",
    "word_index = tokenizer.word_index\n",
    "print('Found %s unique tokens.' % len(word_index))"
   ]
  },
  {
   "cell_type": "code",
   "execution_count": 95,
   "id": "5abb432c",
   "metadata": {},
   "outputs": [
    {
     "data": {
      "text/plain": [
       "{'the': 1,\n",
       " 'and': 2,\n",
       " 'a': 3,\n",
       " 'of': 4,\n",
       " 'to': 5,\n",
       " 'is': 6,\n",
       " 'br': 7,\n",
       " 'in': 8,\n",
       " 'it': 9,\n",
       " 'i': 10,\n",
       " 'this': 11,\n",
       " 'that': 12,\n",
       " 'was': 13,\n",
       " 'as': 14,\n",
       " 'for': 15,\n",
       " 'with': 16,\n",
       " 'movie': 17,\n",
       " 'but': 18,\n",
       " 'film': 19,\n",
       " 'on': 20,\n",
       " 'not': 21,\n",
       " 'you': 22,\n",
       " 'are': 23,\n",
       " 'his': 24,\n",
       " 'have': 25,\n",
       " 'he': 26,\n",
       " 'be': 27,\n",
       " 'one': 28,\n",
       " 'all': 29,\n",
       " 'at': 30,\n",
       " 'by': 31,\n",
       " 'an': 32,\n",
       " 'they': 33,\n",
       " 'who': 34,\n",
       " 'so': 35,\n",
       " 'from': 36,\n",
       " 'like': 37,\n",
       " 'her': 38,\n",
       " 'or': 39,\n",
       " 'just': 40,\n",
       " 'about': 41,\n",
       " \"it's\": 42,\n",
       " 'out': 43,\n",
       " 'has': 44,\n",
       " 'if': 45,\n",
       " 'some': 46,\n",
       " 'there': 47,\n",
       " 'what': 48,\n",
       " 'good': 49,\n",
       " 'more': 50,\n",
       " 'when': 51,\n",
       " 'very': 52,\n",
       " 'up': 53,\n",
       " 'no': 54,\n",
       " 'time': 55,\n",
       " 'she': 56,\n",
       " 'even': 57,\n",
       " 'my': 58,\n",
       " 'would': 59,\n",
       " 'which': 60,\n",
       " 'only': 61,\n",
       " 'story': 62,\n",
       " 'really': 63,\n",
       " 'see': 64,\n",
       " 'their': 65,\n",
       " 'had': 66,\n",
       " 'can': 67,\n",
       " 'were': 68,\n",
       " 'me': 69,\n",
       " 'well': 70,\n",
       " 'than': 71,\n",
       " 'we': 72,\n",
       " 'much': 73,\n",
       " 'been': 74,\n",
       " 'bad': 75,\n",
       " 'get': 76,\n",
       " 'will': 77,\n",
       " 'do': 78,\n",
       " 'also': 79,\n",
       " 'into': 80,\n",
       " 'people': 81,\n",
       " 'other': 82,\n",
       " 'first': 83,\n",
       " 'great': 84,\n",
       " 'because': 85,\n",
       " 'how': 86,\n",
       " 'him': 87,\n",
       " 'most': 88,\n",
       " \"don't\": 89,\n",
       " 'made': 90,\n",
       " 'its': 91,\n",
       " 'then': 92,\n",
       " 'way': 93,\n",
       " 'make': 94,\n",
       " 'them': 95,\n",
       " 'too': 96,\n",
       " 'could': 97,\n",
       " 'any': 98,\n",
       " 'movies': 99,\n",
       " 'after': 100,\n",
       " 'think': 101,\n",
       " 'characters': 102,\n",
       " 'watch': 103,\n",
       " 'two': 104,\n",
       " 'films': 105,\n",
       " 'character': 106,\n",
       " 'seen': 107,\n",
       " 'many': 108,\n",
       " 'being': 109,\n",
       " 'life': 110,\n",
       " 'plot': 111,\n",
       " 'never': 112,\n",
       " 'acting': 113,\n",
       " 'little': 114,\n",
       " 'best': 115,\n",
       " 'love': 116,\n",
       " 'over': 117,\n",
       " 'where': 118,\n",
       " 'did': 119,\n",
       " 'show': 120,\n",
       " 'know': 121,\n",
       " 'off': 122,\n",
       " 'ever': 123,\n",
       " 'does': 124,\n",
       " 'better': 125,\n",
       " 'your': 126,\n",
       " 'end': 127,\n",
       " 'still': 128,\n",
       " 'man': 129,\n",
       " 'here': 130,\n",
       " 'these': 131,\n",
       " 'say': 132,\n",
       " 'scene': 133,\n",
       " 'while': 134,\n",
       " 'why': 135,\n",
       " 'scenes': 136,\n",
       " 'go': 137,\n",
       " 'such': 138,\n",
       " 'something': 139,\n",
       " 'through': 140,\n",
       " 'should': 141,\n",
       " 'back': 142,\n",
       " \"i'm\": 143,\n",
       " 'real': 144,\n",
       " 'those': 145,\n",
       " 'watching': 146,\n",
       " 'now': 147,\n",
       " 'though': 148,\n",
       " \"doesn't\": 149,\n",
       " 'years': 150,\n",
       " 'thing': 151,\n",
       " 'old': 152,\n",
       " 'actors': 153,\n",
       " 'work': 154,\n",
       " '10': 155,\n",
       " 'before': 156,\n",
       " 'another': 157,\n",
       " \"didn't\": 158,\n",
       " 'new': 159,\n",
       " 'funny': 160,\n",
       " 'nothing': 161,\n",
       " 'actually': 162,\n",
       " 'makes': 163,\n",
       " 'director': 164,\n",
       " 'look': 165,\n",
       " 'find': 166,\n",
       " 'going': 167,\n",
       " 'few': 168,\n",
       " 'same': 169,\n",
       " 'part': 170,\n",
       " 'again': 171,\n",
       " 'every': 172,\n",
       " 'lot': 173,\n",
       " 'cast': 174,\n",
       " 'us': 175,\n",
       " 'quite': 176,\n",
       " 'down': 177,\n",
       " 'want': 178,\n",
       " 'world': 179,\n",
       " 'things': 180,\n",
       " 'pretty': 181,\n",
       " 'young': 182,\n",
       " 'seems': 183,\n",
       " 'around': 184,\n",
       " 'got': 185,\n",
       " 'horror': 186,\n",
       " 'however': 187,\n",
       " \"can't\": 188,\n",
       " 'fact': 189,\n",
       " 'take': 190,\n",
       " 'big': 191,\n",
       " 'enough': 192,\n",
       " 'long': 193,\n",
       " 'thought': 194,\n",
       " \"that's\": 195,\n",
       " 'both': 196,\n",
       " 'between': 197,\n",
       " 'series': 198,\n",
       " 'give': 199,\n",
       " 'may': 200,\n",
       " 'original': 201,\n",
       " 'own': 202,\n",
       " 'action': 203,\n",
       " \"i've\": 204,\n",
       " 'right': 205,\n",
       " 'without': 206,\n",
       " 'always': 207,\n",
       " 'times': 208,\n",
       " 'comedy': 209,\n",
       " 'point': 210,\n",
       " 'gets': 211,\n",
       " 'must': 212,\n",
       " 'come': 213,\n",
       " 'role': 214,\n",
       " \"isn't\": 215,\n",
       " 'saw': 216,\n",
       " 'almost': 217,\n",
       " 'interesting': 218,\n",
       " 'least': 219,\n",
       " 'family': 220,\n",
       " 'done': 221,\n",
       " \"there's\": 222,\n",
       " 'whole': 223,\n",
       " 'bit': 224,\n",
       " 'music': 225,\n",
       " 'script': 226,\n",
       " 'far': 227,\n",
       " 'making': 228,\n",
       " 'guy': 229,\n",
       " 'anything': 230,\n",
       " 'minutes': 231,\n",
       " 'feel': 232,\n",
       " 'last': 233,\n",
       " 'since': 234,\n",
       " 'might': 235,\n",
       " 'performance': 236,\n",
       " \"he's\": 237,\n",
       " '2': 238,\n",
       " 'probably': 239,\n",
       " 'kind': 240,\n",
       " 'am': 241,\n",
       " 'away': 242,\n",
       " 'yet': 243,\n",
       " 'rather': 244,\n",
       " 'tv': 245,\n",
       " 'worst': 246,\n",
       " 'girl': 247,\n",
       " 'day': 248,\n",
       " 'sure': 249,\n",
       " 'fun': 250,\n",
       " 'hard': 251,\n",
       " 'woman': 252,\n",
       " 'played': 253,\n",
       " 'each': 254,\n",
       " 'found': 255,\n",
       " 'anyone': 256,\n",
       " 'having': 257,\n",
       " 'although': 258,\n",
       " 'especially': 259,\n",
       " 'our': 260,\n",
       " 'course': 261,\n",
       " 'believe': 262,\n",
       " 'comes': 263,\n",
       " 'looking': 264,\n",
       " 'screen': 265,\n",
       " 'trying': 266,\n",
       " 'set': 267,\n",
       " 'goes': 268,\n",
       " 'looks': 269,\n",
       " 'place': 270,\n",
       " 'book': 271,\n",
       " 'different': 272,\n",
       " 'put': 273,\n",
       " 'ending': 274,\n",
       " 'money': 275,\n",
       " 'maybe': 276,\n",
       " 'once': 277,\n",
       " 'sense': 278,\n",
       " 'reason': 279,\n",
       " 'true': 280,\n",
       " 'actor': 281,\n",
       " 'everything': 282,\n",
       " \"wasn't\": 283,\n",
       " 'shows': 284,\n",
       " 'dvd': 285,\n",
       " 'three': 286,\n",
       " 'worth': 287,\n",
       " 'year': 288,\n",
       " 'job': 289,\n",
       " 'main': 290,\n",
       " 'someone': 291,\n",
       " 'together': 292,\n",
       " 'watched': 293,\n",
       " 'play': 294,\n",
       " 'american': 295,\n",
       " 'plays': 296,\n",
       " '1': 297,\n",
       " 'said': 298,\n",
       " 'effects': 299,\n",
       " 'later': 300,\n",
       " 'takes': 301,\n",
       " 'instead': 302,\n",
       " 'seem': 303,\n",
       " 'john': 304,\n",
       " 'beautiful': 305,\n",
       " 'himself': 306,\n",
       " 'version': 307,\n",
       " 'audience': 308,\n",
       " 'high': 309,\n",
       " 'house': 310,\n",
       " 'night': 311,\n",
       " 'during': 312,\n",
       " 'everyone': 313,\n",
       " 'left': 314,\n",
       " 'special': 315,\n",
       " 'seeing': 316,\n",
       " 'half': 317,\n",
       " 'excellent': 318,\n",
       " 'wife': 319,\n",
       " 'star': 320,\n",
       " 'shot': 321,\n",
       " 'war': 322,\n",
       " 'idea': 323,\n",
       " 'nice': 324,\n",
       " 'black': 325,\n",
       " 'less': 326,\n",
       " 'mind': 327,\n",
       " 'simply': 328,\n",
       " 'read': 329,\n",
       " 'second': 330,\n",
       " 'else': 331,\n",
       " \"you're\": 332,\n",
       " 'father': 333,\n",
       " 'fan': 334,\n",
       " 'help': 335,\n",
       " 'poor': 336,\n",
       " 'completely': 337,\n",
       " 'death': 338,\n",
       " '3': 339,\n",
       " 'used': 340,\n",
       " 'home': 341,\n",
       " 'either': 342,\n",
       " 'short': 343,\n",
       " 'line': 344,\n",
       " 'given': 345,\n",
       " 'men': 346,\n",
       " 'top': 347,\n",
       " 'dead': 348,\n",
       " 'budget': 349,\n",
       " 'try': 350,\n",
       " 'performances': 351,\n",
       " 'wrong': 352,\n",
       " 'classic': 353,\n",
       " 'boring': 354,\n",
       " 'enjoy': 355,\n",
       " 'need': 356,\n",
       " 'rest': 357,\n",
       " 'use': 358,\n",
       " 'kids': 359,\n",
       " 'hollywood': 360,\n",
       " 'low': 361,\n",
       " 'production': 362,\n",
       " 'until': 363,\n",
       " 'along': 364,\n",
       " 'full': 365,\n",
       " 'friends': 366,\n",
       " 'camera': 367,\n",
       " 'truly': 368,\n",
       " 'women': 369,\n",
       " 'awful': 370,\n",
       " 'video': 371,\n",
       " 'next': 372,\n",
       " 'tell': 373,\n",
       " 'remember': 374,\n",
       " 'couple': 375,\n",
       " 'stupid': 376,\n",
       " 'start': 377,\n",
       " 'stars': 378,\n",
       " 'perhaps': 379,\n",
       " 'mean': 380,\n",
       " 'sex': 381,\n",
       " 'came': 382,\n",
       " 'recommend': 383,\n",
       " 'let': 384,\n",
       " 'moments': 385,\n",
       " 'wonderful': 386,\n",
       " 'episode': 387,\n",
       " 'understand': 388,\n",
       " 'small': 389,\n",
       " 'face': 390,\n",
       " 'terrible': 391,\n",
       " 'school': 392,\n",
       " 'playing': 393,\n",
       " 'getting': 394,\n",
       " 'written': 395,\n",
       " 'doing': 396,\n",
       " 'often': 397,\n",
       " 'keep': 398,\n",
       " 'early': 399,\n",
       " 'name': 400,\n",
       " 'perfect': 401,\n",
       " 'style': 402,\n",
       " 'human': 403,\n",
       " 'definitely': 404,\n",
       " 'others': 405,\n",
       " 'gives': 406,\n",
       " 'itself': 407,\n",
       " 'lines': 408,\n",
       " 'live': 409,\n",
       " 'become': 410,\n",
       " 'person': 411,\n",
       " 'dialogue': 412,\n",
       " 'lost': 413,\n",
       " 'finally': 414,\n",
       " 'piece': 415,\n",
       " 'head': 416,\n",
       " 'case': 417,\n",
       " 'felt': 418,\n",
       " 'yes': 419,\n",
       " 'supposed': 420,\n",
       " 'liked': 421,\n",
       " 'title': 422,\n",
       " \"couldn't\": 423,\n",
       " 'absolutely': 424,\n",
       " 'white': 425,\n",
       " 'against': 426,\n",
       " 'boy': 427,\n",
       " 'picture': 428,\n",
       " 'sort': 429,\n",
       " 'worse': 430,\n",
       " 'certainly': 431,\n",
       " 'went': 432,\n",
       " 'entire': 433,\n",
       " 'waste': 434,\n",
       " 'cinema': 435,\n",
       " 'problem': 436,\n",
       " 'hope': 437,\n",
       " \"she's\": 438,\n",
       " 'entertaining': 439,\n",
       " 'mr': 440,\n",
       " 'overall': 441,\n",
       " 'evil': 442,\n",
       " 'called': 443,\n",
       " 'loved': 444,\n",
       " 'based': 445,\n",
       " 'oh': 446,\n",
       " 'several': 447,\n",
       " 'fans': 448,\n",
       " 'mother': 449,\n",
       " 'drama': 450,\n",
       " 'beginning': 451,\n",
       " 'killer': 452,\n",
       " 'lives': 453,\n",
       " '5': 454,\n",
       " 'direction': 455,\n",
       " 'care': 456,\n",
       " 'becomes': 457,\n",
       " 'already': 458,\n",
       " 'example': 459,\n",
       " 'laugh': 460,\n",
       " 'friend': 461,\n",
       " 'dark': 462,\n",
       " 'under': 463,\n",
       " 'despite': 464,\n",
       " 'seemed': 465,\n",
       " 'throughout': 466,\n",
       " '4': 467,\n",
       " 'turn': 468,\n",
       " 'unfortunately': 469,\n",
       " 'wanted': 470,\n",
       " \"i'd\": 471,\n",
       " '\\x96': 472,\n",
       " 'children': 473,\n",
       " 'final': 474,\n",
       " 'fine': 475,\n",
       " 'history': 476,\n",
       " 'amazing': 477,\n",
       " 'sound': 478,\n",
       " 'guess': 479,\n",
       " 'heart': 480,\n",
       " 'totally': 481,\n",
       " 'humor': 482,\n",
       " 'lead': 483,\n",
       " 'writing': 484,\n",
       " 'michael': 485,\n",
       " 'quality': 486,\n",
       " \"you'll\": 487,\n",
       " 'close': 488,\n",
       " 'son': 489,\n",
       " 'guys': 490,\n",
       " 'wants': 491,\n",
       " 'works': 492,\n",
       " 'behind': 493,\n",
       " 'tries': 494,\n",
       " 'art': 495,\n",
       " 'side': 496,\n",
       " 'game': 497,\n",
       " 'past': 498,\n",
       " 'able': 499,\n",
       " 'b': 500,\n",
       " 'days': 501,\n",
       " 'turns': 502,\n",
       " 'child': 503,\n",
       " \"they're\": 504,\n",
       " 'hand': 505,\n",
       " 'enjoyed': 506,\n",
       " 'flick': 507,\n",
       " 'act': 508,\n",
       " 'genre': 509,\n",
       " 'town': 510,\n",
       " 'favorite': 511,\n",
       " 'soon': 512,\n",
       " 'kill': 513,\n",
       " 'starts': 514,\n",
       " 'sometimes': 515,\n",
       " 'car': 516,\n",
       " 'gave': 517,\n",
       " 'run': 518,\n",
       " 'late': 519,\n",
       " 'eyes': 520,\n",
       " 'actress': 521,\n",
       " 'etc': 522,\n",
       " 'directed': 523,\n",
       " 'horrible': 524,\n",
       " \"won't\": 525,\n",
       " 'brilliant': 526,\n",
       " 'viewer': 527,\n",
       " 'parts': 528,\n",
       " 'themselves': 529,\n",
       " 'self': 530,\n",
       " 'hour': 531,\n",
       " 'expect': 532,\n",
       " 'thinking': 533,\n",
       " 'stories': 534,\n",
       " 'stuff': 535,\n",
       " 'girls': 536,\n",
       " 'obviously': 537,\n",
       " 'blood': 538,\n",
       " 'decent': 539,\n",
       " 'city': 540,\n",
       " 'voice': 541,\n",
       " 'highly': 542,\n",
       " 'myself': 543,\n",
       " 'feeling': 544,\n",
       " 'fight': 545,\n",
       " 'except': 546,\n",
       " 'slow': 547,\n",
       " 'matter': 548,\n",
       " 'type': 549,\n",
       " 'anyway': 550,\n",
       " 'kid': 551,\n",
       " 'roles': 552,\n",
       " 'heard': 553,\n",
       " 'killed': 554,\n",
       " 'god': 555,\n",
       " 'age': 556,\n",
       " 'says': 557,\n",
       " 'moment': 558,\n",
       " 'took': 559,\n",
       " 'leave': 560,\n",
       " 'writer': 561,\n",
       " 'cannot': 562,\n",
       " 'strong': 563,\n",
       " 'violence': 564,\n",
       " 'police': 565,\n",
       " 'hit': 566,\n",
       " 'stop': 567,\n",
       " 'happens': 568,\n",
       " 'particularly': 569,\n",
       " 'known': 570,\n",
       " 'happened': 571,\n",
       " 'involved': 572,\n",
       " 'extremely': 573,\n",
       " 'daughter': 574,\n",
       " 'obvious': 575,\n",
       " 'chance': 576,\n",
       " 'told': 577,\n",
       " 'living': 578,\n",
       " 'coming': 579,\n",
       " 'lack': 580,\n",
       " 'alone': 581,\n",
       " 'experience': 582,\n",
       " \"wouldn't\": 583,\n",
       " 'including': 584,\n",
       " 'murder': 585,\n",
       " 'attempt': 586,\n",
       " 's': 587,\n",
       " 'james': 588,\n",
       " 'please': 589,\n",
       " 'happen': 590,\n",
       " 'wonder': 591,\n",
       " 'crap': 592,\n",
       " 'brother': 593,\n",
       " 'ago': 594,\n",
       " \"film's\": 595,\n",
       " 'gore': 596,\n",
       " 'complete': 597,\n",
       " 'none': 598,\n",
       " 'interest': 599,\n",
       " 'score': 600,\n",
       " 'group': 601,\n",
       " 'cut': 602,\n",
       " 'simple': 603,\n",
       " 'save': 604,\n",
       " 'hell': 605,\n",
       " 'ok': 606,\n",
       " 'looked': 607,\n",
       " 'career': 608,\n",
       " 'number': 609,\n",
       " 'song': 610,\n",
       " 'possible': 611,\n",
       " 'seriously': 612,\n",
       " 'annoying': 613,\n",
       " 'exactly': 614,\n",
       " 'sad': 615,\n",
       " 'shown': 616,\n",
       " 'running': 617,\n",
       " 'musical': 618,\n",
       " 'serious': 619,\n",
       " 'taken': 620,\n",
       " 'yourself': 621,\n",
       " 'whose': 622,\n",
       " 'released': 623,\n",
       " 'david': 624,\n",
       " 'cinematography': 625,\n",
       " 'scary': 626,\n",
       " 'ends': 627,\n",
       " 'hero': 628,\n",
       " 'english': 629,\n",
       " 'usually': 630,\n",
       " 'hours': 631,\n",
       " 'reality': 632,\n",
       " 'opening': 633,\n",
       " \"i'll\": 634,\n",
       " 'light': 635,\n",
       " 'jokes': 636,\n",
       " 'across': 637,\n",
       " 'today': 638,\n",
       " 'hilarious': 639,\n",
       " 'somewhat': 640,\n",
       " 'usual': 641,\n",
       " 'started': 642,\n",
       " 'cool': 643,\n",
       " 'ridiculous': 644,\n",
       " 'body': 645,\n",
       " 'relationship': 646,\n",
       " 'level': 647,\n",
       " 'view': 648,\n",
       " 'change': 649,\n",
       " 'opinion': 650,\n",
       " 'happy': 651,\n",
       " 'middle': 652,\n",
       " 'taking': 653,\n",
       " 'wish': 654,\n",
       " 'husband': 655,\n",
       " 'finds': 656,\n",
       " 'order': 657,\n",
       " 'saying': 658,\n",
       " 'shots': 659,\n",
       " 'talking': 660,\n",
       " 'documentary': 661,\n",
       " 'ones': 662,\n",
       " 'huge': 663,\n",
       " 'novel': 664,\n",
       " 'mostly': 665,\n",
       " 'female': 666,\n",
       " 'robert': 667,\n",
       " 'power': 668,\n",
       " 'episodes': 669,\n",
       " 'room': 670,\n",
       " 'important': 671,\n",
       " 'rating': 672,\n",
       " 'talent': 673,\n",
       " 'five': 674,\n",
       " 'major': 675,\n",
       " 'turned': 676,\n",
       " 'strange': 677,\n",
       " 'word': 678,\n",
       " 'modern': 679,\n",
       " 'call': 680,\n",
       " 'apparently': 681,\n",
       " 'disappointed': 682,\n",
       " 'single': 683,\n",
       " 'events': 684,\n",
       " 'four': 685,\n",
       " 'due': 686,\n",
       " 'songs': 687,\n",
       " 'basically': 688,\n",
       " 'attention': 689,\n",
       " '7': 690,\n",
       " 'knows': 691,\n",
       " 'clearly': 692,\n",
       " 'supporting': 693,\n",
       " 'knew': 694,\n",
       " 'non': 695,\n",
       " 'british': 696,\n",
       " 'comic': 697,\n",
       " 'television': 698,\n",
       " 'earth': 699,\n",
       " 'fast': 700,\n",
       " 'country': 701,\n",
       " 'class': 702,\n",
       " 'cheap': 703,\n",
       " 'future': 704,\n",
       " 'thriller': 705,\n",
       " 'silly': 706,\n",
       " '8': 707,\n",
       " 'king': 708,\n",
       " 'problems': 709,\n",
       " \"aren't\": 710,\n",
       " 'easily': 711,\n",
       " 'words': 712,\n",
       " 'tells': 713,\n",
       " 'miss': 714,\n",
       " 'jack': 715,\n",
       " 'local': 716,\n",
       " 'sequence': 717,\n",
       " 'entertainment': 718,\n",
       " 'bring': 719,\n",
       " 'paul': 720,\n",
       " 'beyond': 721,\n",
       " 'upon': 722,\n",
       " 'whether': 723,\n",
       " 'predictable': 724,\n",
       " 'moving': 725,\n",
       " 'sets': 726,\n",
       " 'straight': 727,\n",
       " 'similar': 728,\n",
       " 'romantic': 729,\n",
       " 'review': 730,\n",
       " 'falls': 731,\n",
       " 'oscar': 732,\n",
       " 'mystery': 733,\n",
       " 'enjoyable': 734,\n",
       " 'talk': 735,\n",
       " 'needs': 736,\n",
       " 'rock': 737,\n",
       " 'appears': 738,\n",
       " 'george': 739,\n",
       " 'giving': 740,\n",
       " 'eye': 741,\n",
       " 'within': 742,\n",
       " 'richard': 743,\n",
       " 'ten': 744,\n",
       " 'animation': 745,\n",
       " 'message': 746,\n",
       " 'theater': 747,\n",
       " 'near': 748,\n",
       " 'above': 749,\n",
       " 'dull': 750,\n",
       " 'sequel': 751,\n",
       " 'nearly': 752,\n",
       " 'theme': 753,\n",
       " 'points': 754,\n",
       " \"'\": 755,\n",
       " 'stand': 756,\n",
       " 'mention': 757,\n",
       " 'add': 758,\n",
       " 'lady': 759,\n",
       " 'bunch': 760,\n",
       " 'feels': 761,\n",
       " 'herself': 762,\n",
       " 'release': 763,\n",
       " 'red': 764,\n",
       " 'team': 765,\n",
       " 'storyline': 766,\n",
       " 'surprised': 767,\n",
       " 'ways': 768,\n",
       " 'named': 769,\n",
       " 'using': 770,\n",
       " \"haven't\": 771,\n",
       " 'easy': 772,\n",
       " 'lots': 773,\n",
       " 'fantastic': 774,\n",
       " 'begins': 775,\n",
       " 'actual': 776,\n",
       " 'working': 777,\n",
       " 'effort': 778,\n",
       " 'york': 779,\n",
       " 'die': 780,\n",
       " 'hate': 781,\n",
       " 'french': 782,\n",
       " 'minute': 783,\n",
       " 'tale': 784,\n",
       " 'stay': 785,\n",
       " 'clear': 786,\n",
       " '9': 787,\n",
       " 'feature': 788,\n",
       " 'elements': 789,\n",
       " 'among': 790,\n",
       " 'follow': 791,\n",
       " 're': 792,\n",
       " 'comments': 793,\n",
       " 'avoid': 794,\n",
       " 'viewers': 795,\n",
       " 'sister': 796,\n",
       " 'showing': 797,\n",
       " 'typical': 798,\n",
       " 'editing': 799,\n",
       " \"what's\": 800,\n",
       " 'tried': 801,\n",
       " 'famous': 802,\n",
       " 'sorry': 803,\n",
       " 'check': 804,\n",
       " 'dialog': 805,\n",
       " 'fall': 806,\n",
       " 'period': 807,\n",
       " 'form': 808,\n",
       " 'season': 809,\n",
       " 'certain': 810,\n",
       " 'filmed': 811,\n",
       " 'weak': 812,\n",
       " 'soundtrack': 813,\n",
       " 'means': 814,\n",
       " 'material': 815,\n",
       " 'buy': 816,\n",
       " 'realistic': 817,\n",
       " 'somehow': 818,\n",
       " 'crime': 819,\n",
       " 'figure': 820,\n",
       " 'gone': 821,\n",
       " 'doubt': 822,\n",
       " 'peter': 823,\n",
       " 'tom': 824,\n",
       " 'kept': 825,\n",
       " 'viewing': 826,\n",
       " 't': 827,\n",
       " 'general': 828,\n",
       " 'leads': 829,\n",
       " 'greatest': 830,\n",
       " 'space': 831,\n",
       " 'lame': 832,\n",
       " 'suspense': 833,\n",
       " 'dance': 834,\n",
       " 'imagine': 835,\n",
       " 'brought': 836,\n",
       " 'third': 837,\n",
       " 'atmosphere': 838,\n",
       " 'hear': 839,\n",
       " 'particular': 840,\n",
       " 'whatever': 841,\n",
       " 'sequences': 842,\n",
       " 'parents': 843,\n",
       " 'move': 844,\n",
       " 'lee': 845,\n",
       " 'indeed': 846,\n",
       " 'eventually': 847,\n",
       " 'de': 848,\n",
       " 'rent': 849,\n",
       " 'learn': 850,\n",
       " 'note': 851,\n",
       " 'deal': 852,\n",
       " 'reviews': 853,\n",
       " 'average': 854,\n",
       " 'forget': 855,\n",
       " 'wait': 856,\n",
       " 'japanese': 857,\n",
       " 'poorly': 858,\n",
       " 'sexual': 859,\n",
       " 'premise': 860,\n",
       " 'okay': 861,\n",
       " 'surprise': 862,\n",
       " 'zombie': 863,\n",
       " 'believable': 864,\n",
       " 'stage': 865,\n",
       " 'sit': 866,\n",
       " 'possibly': 867,\n",
       " \"who's\": 868,\n",
       " 'decided': 869,\n",
       " 'expected': 870,\n",
       " \"you've\": 871,\n",
       " 'subject': 872,\n",
       " 'nature': 873,\n",
       " 'became': 874,\n",
       " 'free': 875,\n",
       " 'difficult': 876,\n",
       " 'killing': 877,\n",
       " 'screenplay': 878,\n",
       " 'truth': 879,\n",
       " 'romance': 880,\n",
       " 'dr': 881,\n",
       " 'nor': 882,\n",
       " 'reading': 883,\n",
       " 'question': 884,\n",
       " 'needed': 885,\n",
       " 'leaves': 886,\n",
       " 'street': 887,\n",
       " '20': 888,\n",
       " 'meets': 889,\n",
       " 'hot': 890,\n",
       " 'begin': 891,\n",
       " 'unless': 892,\n",
       " 'baby': 893,\n",
       " 'imdb': 894,\n",
       " 'credits': 895,\n",
       " 'otherwise': 896,\n",
       " 'superb': 897,\n",
       " 'write': 898,\n",
       " 'shame': 899,\n",
       " \"let's\": 900,\n",
       " 'dramatic': 901,\n",
       " 'situation': 902,\n",
       " 'memorable': 903,\n",
       " 'directors': 904,\n",
       " 'earlier': 905,\n",
       " 'disney': 906,\n",
       " 'dog': 907,\n",
       " 'badly': 908,\n",
       " 'open': 909,\n",
       " 'meet': 910,\n",
       " 'weird': 911,\n",
       " 'male': 912,\n",
       " 'joe': 913,\n",
       " 'forced': 914,\n",
       " 'acted': 915,\n",
       " 'emotional': 916,\n",
       " 'sci': 917,\n",
       " 'laughs': 918,\n",
       " 'older': 919,\n",
       " 'realize': 920,\n",
       " 'dream': 921,\n",
       " 'society': 922,\n",
       " 'fi': 923,\n",
       " 'writers': 924,\n",
       " 'interested': 925,\n",
       " 'forward': 926,\n",
       " 'comment': 927,\n",
       " 'footage': 928,\n",
       " 'crazy': 929,\n",
       " 'deep': 930,\n",
       " 'america': 931,\n",
       " 'plus': 932,\n",
       " 'beauty': 933,\n",
       " 'sounds': 934,\n",
       " 'whom': 935,\n",
       " 'fantasy': 936,\n",
       " 'directing': 937,\n",
       " 'keeps': 938,\n",
       " 'development': 939,\n",
       " 'ask': 940,\n",
       " 'features': 941,\n",
       " 'quickly': 942,\n",
       " 'air': 943,\n",
       " 'mess': 944,\n",
       " 'creepy': 945,\n",
       " 'towards': 946,\n",
       " 'perfectly': 947,\n",
       " 'mark': 948,\n",
       " 'worked': 949,\n",
       " 'box': 950,\n",
       " 'cheesy': 951,\n",
       " 'unique': 952,\n",
       " 'setting': 953,\n",
       " 'hands': 954,\n",
       " 'plenty': 955,\n",
       " 'previous': 956,\n",
       " 'result': 957,\n",
       " 'brings': 958,\n",
       " 'effect': 959,\n",
       " 'total': 960,\n",
       " 'e': 961,\n",
       " 'incredibly': 962,\n",
       " 'personal': 963,\n",
       " 'fire': 964,\n",
       " 'monster': 965,\n",
       " 'rate': 966,\n",
       " 'business': 967,\n",
       " 'apart': 968,\n",
       " 'casting': 969,\n",
       " 'leading': 970,\n",
       " 'admit': 971,\n",
       " 'joke': 972,\n",
       " 'appear': 973,\n",
       " 'background': 974,\n",
       " 'powerful': 975,\n",
       " 'girlfriend': 976,\n",
       " 'meant': 977,\n",
       " 'telling': 978,\n",
       " 'hardly': 979,\n",
       " 'present': 980,\n",
       " 'christmas': 981,\n",
       " 'potential': 982,\n",
       " 'battle': 983,\n",
       " 'create': 984,\n",
       " 'break': 985,\n",
       " 'bill': 986,\n",
       " 'pay': 987,\n",
       " 'masterpiece': 988,\n",
       " 'return': 989,\n",
       " 'political': 990,\n",
       " 'gay': 991,\n",
       " 'dumb': 992,\n",
       " 'fighting': 993,\n",
       " 'fails': 994,\n",
       " 'various': 995,\n",
       " 'portrayed': 996,\n",
       " 'era': 997,\n",
       " 'co': 998,\n",
       " 'cop': 999,\n",
       " 'secret': 1000,\n",
       " ...}"
      ]
     },
     "execution_count": 95,
     "metadata": {},
     "output_type": "execute_result"
    }
   ],
   "source": [
    "word_index"
   ]
  },
  {
   "cell_type": "code",
   "execution_count": 96,
   "id": "88197853",
   "metadata": {},
   "outputs": [],
   "source": [
    "data = pad_sequences(sequences, maxlen=maxlen)"
   ]
  },
  {
   "cell_type": "code",
   "execution_count": 97,
   "id": "f284d8ea",
   "metadata": {},
   "outputs": [
    {
     "data": {
      "text/plain": [
       "(25000, 200)"
      ]
     },
     "execution_count": 97,
     "metadata": {},
     "output_type": "execute_result"
    }
   ],
   "source": [
    "data.shape"
   ]
  },
  {
   "cell_type": "code",
   "execution_count": 98,
   "id": "eb6e9cbc",
   "metadata": {},
   "outputs": [
    {
     "name": "stdout",
     "output_type": "stream",
     "text": [
      "Shape of data tensor: (25000, 200)\n",
      "Shape of label tensor: (25000,)\n"
     ]
    }
   ],
   "source": [
    "labels = np.asarray(labels)\n",
    "print('Shape of data tensor:', data.shape)\n",
    "print('Shape of label tensor:', labels.shape)"
   ]
  },
  {
   "cell_type": "markdown",
   "id": "ff28dfb1",
   "metadata": {},
   "source": [
    "### 将数据集打乱"
   ]
  },
  {
   "cell_type": "code",
   "execution_count": 99,
   "id": "42835027",
   "metadata": {},
   "outputs": [],
   "source": [
    "indices = np.arange(data.shape[0])\n",
    "np.random.shuffle(indices)\n",
    "data = data[indices]\n",
    "labels = labels[indices]"
   ]
  },
  {
   "cell_type": "code",
   "execution_count": 100,
   "id": "e2151fb0",
   "metadata": {},
   "outputs": [],
   "source": [
    "x_train = data[:training_samples]\n",
    "y_train = labels[:training_samples]"
   ]
  },
  {
   "cell_type": "code",
   "execution_count": 101,
   "id": "7d34f785",
   "metadata": {},
   "outputs": [],
   "source": [
    "x_val = data[training_samples: training_samples + validation_samples] \n",
    "y_val = labels[training_samples: training_samples + validation_samples]"
   ]
  },
  {
   "cell_type": "code",
   "execution_count": 102,
   "id": "cb009663",
   "metadata": {},
   "outputs": [
    {
     "name": "stdout",
     "output_type": "stream",
     "text": [
      "Found 400001 word vectors.\n"
     ]
    }
   ],
   "source": [
    "glove_dir = '../datasets/glove6b'\n",
    "\n",
    "embedding_index = {}\n",
    "f = open(os.path.join(glove_dir, 'glove.6B.100d.txt'))\n",
    "for line in f:\n",
    "    values = line.split()\n",
    "    word = values[0]\n",
    "    coefs = np.asarray(values[1:], dtype='float32')\n",
    "    embedding_index[word] = coefs\n",
    "f.close()\n",
    "\n",
    "print('Found %s word vectors.' % len(embedding_index))"
   ]
  },
  {
   "cell_type": "markdown",
   "id": "e9ed19c4",
   "metadata": {},
   "source": [
    "### 准备词嵌入矩阵"
   ]
  },
  {
   "cell_type": "code",
   "execution_count": 103,
   "id": "5c01a4f8",
   "metadata": {},
   "outputs": [],
   "source": [
    "embedding_dim = 100\n",
    "\n",
    "embedding_martix = np.zeros((max_words, embedding_dim))\n",
    "for word, i in word_index.items():\n",
    "    if i < max_words:\n",
    "        embedding_vector = embedding_index.get(word)\n",
    "        if embedding_vector is not None:\n",
    "            embedding_martix[i] = embedding_vector\n",
    "        "
   ]
  },
  {
   "cell_type": "code",
   "execution_count": 104,
   "id": "f5f28858",
   "metadata": {},
   "outputs": [
    {
     "data": {
      "text/plain": [
       "(10000, 100)"
      ]
     },
     "execution_count": 104,
     "metadata": {},
     "output_type": "execute_result"
    }
   ],
   "source": [
    "embedding_martix.shape"
   ]
  },
  {
   "cell_type": "code",
   "execution_count": 105,
   "id": "1ee4db3f",
   "metadata": {},
   "outputs": [
    {
     "data": {
      "text/plain": [
       "array([0., 0., 0., 0., 0., 0., 0., 0., 0., 0., 0., 0., 0., 0., 0., 0., 0.,\n",
       "       0., 0., 0., 0., 0., 0., 0., 0., 0., 0., 0., 0., 0., 0., 0., 0., 0.,\n",
       "       0., 0., 0., 0., 0., 0., 0., 0., 0., 0., 0., 0., 0., 0., 0., 0., 0.,\n",
       "       0., 0., 0., 0., 0., 0., 0., 0., 0., 0., 0., 0., 0., 0., 0., 0., 0.,\n",
       "       0., 0., 0., 0., 0., 0., 0., 0., 0., 0., 0., 0., 0., 0., 0., 0., 0.,\n",
       "       0., 0., 0., 0., 0., 0., 0., 0., 0., 0., 0., 0., 0., 0., 0.])"
      ]
     },
     "execution_count": 105,
     "metadata": {},
     "output_type": "execute_result"
    }
   ],
   "source": [
    "embedding_martix[0]"
   ]
  },
  {
   "cell_type": "markdown",
   "id": "f2caa72c",
   "metadata": {},
   "source": [
    "### 定义模型"
   ]
  },
  {
   "cell_type": "code",
   "execution_count": 106,
   "id": "ace5007f",
   "metadata": {},
   "outputs": [
    {
     "name": "stdout",
     "output_type": "stream",
     "text": [
      "Model: \"sequential_4\"\n",
      "_________________________________________________________________\n",
      " Layer (type)                Output Shape              Param #   \n",
      "=================================================================\n",
      " embedding_4 (Embedding)     (None, 200, 100)          1000000   \n",
      "                                                                 \n",
      " flatten_4 (Flatten)         (None, 20000)             0         \n",
      "                                                                 \n",
      " dense_6 (Dense)             (None, 32)                640032    \n",
      "                                                                 \n",
      " dense_7 (Dense)             (None, 1)                 33        \n",
      "                                                                 \n",
      "=================================================================\n",
      "Total params: 1,640,065\n",
      "Trainable params: 1,640,065\n",
      "Non-trainable params: 0\n",
      "_________________________________________________________________\n"
     ]
    }
   ],
   "source": [
    "from keras.models import Sequential\n",
    "from keras.layers import Embedding, Flatten, Dense\n",
    "\n",
    "model = Sequential()\n",
    "\n",
    "model.add(Embedding(max_words, embedding_dim, input_length=maxlen))\n",
    "model.add(Flatten())\n",
    "model.add(Dense(32, activation='relu'))\n",
    "model.add(Dense(1, activation='sigmoid'))\n",
    "model.summary()"
   ]
  },
  {
   "cell_type": "code",
   "execution_count": 107,
   "id": "3fa019cc",
   "metadata": {},
   "outputs": [],
   "source": [
    "model.layers[0].set_weights([embedding_martix])\n",
    "model.layers[0].trainable = False"
   ]
  },
  {
   "cell_type": "code",
   "execution_count": 108,
   "id": "b6095a63",
   "metadata": {},
   "outputs": [],
   "source": [
    "model.compile(optimizer='rmsprop', loss='binary_crossentropy', metrics=['acc'])"
   ]
  },
  {
   "cell_type": "code",
   "execution_count": 109,
   "id": "cfa59304",
   "metadata": {},
   "outputs": [
    {
     "name": "stdout",
     "output_type": "stream",
     "text": [
      "Epoch 1/10\n",
      "19/19 [==============================] - 2s 97ms/step - loss: 1.0278 - acc: 0.5683 - val_loss: 0.6794 - val_acc: 0.5730\n",
      "Epoch 2/10\n",
      "19/19 [==============================] - 1s 71ms/step - loss: 0.6642 - acc: 0.6650 - val_loss: 0.6679 - val_acc: 0.5988\n",
      "Epoch 3/10\n",
      "19/19 [==============================] - 1s 68ms/step - loss: 0.5232 - acc: 0.7633 - val_loss: 0.6659 - val_acc: 0.6020\n",
      "Epoch 4/10\n",
      "19/19 [==============================] - 1s 69ms/step - loss: 0.3932 - acc: 0.8450 - val_loss: 0.8133 - val_acc: 0.5358\n",
      "Epoch 5/10\n",
      "19/19 [==============================] - 1s 67ms/step - loss: 0.2727 - acc: 0.9150 - val_loss: 0.7395 - val_acc: 0.5815\n",
      "Epoch 6/10\n",
      "19/19 [==============================] - 1s 67ms/step - loss: 0.1855 - acc: 0.9567 - val_loss: 1.3907 - val_acc: 0.5124\n",
      "Epoch 7/10\n",
      "19/19 [==============================] - 1s 67ms/step - loss: 0.1886 - acc: 0.9333 - val_loss: 0.6905 - val_acc: 0.6128\n",
      "Epoch 8/10\n",
      "19/19 [==============================] - 1s 67ms/step - loss: 0.1210 - acc: 0.9567 - val_loss: 0.7630 - val_acc: 0.5843\n",
      "Epoch 9/10\n",
      "19/19 [==============================] - 1s 66ms/step - loss: 0.0396 - acc: 1.0000 - val_loss: 0.7693 - val_acc: 0.6052\n",
      "Epoch 10/10\n",
      "19/19 [==============================] - 1s 68ms/step - loss: 0.0817 - acc: 0.9733 - val_loss: 0.7840 - val_acc: 0.6137\n"
     ]
    }
   ],
   "source": [
    "history = model.fit(x_train,y_train,epochs=10,batch_size=32,validation_data=(x_val,y_val))\n",
    "model.save_weights('pre_trained_glove_model.h5')"
   ]
  },
  {
   "cell_type": "code",
   "execution_count": 110,
   "id": "63da489c",
   "metadata": {},
   "outputs": [
    {
     "data": {
      "image/png": "[encoded data removed]",
      "text/plain": [
       "<Figure size 640x480 with 1 Axes>"
      ]
     },
     "metadata": {},
     "output_type": "display_data"
    },
    {
     "data": {
      "image/png": "[encoded data removed]",
      "text/plain": [
       "<Figure size 640x480 with 1 Axes>"
      ]
     },
     "metadata": {},
     "output_type": "display_data"
    }
   ],
   "source": [
    "import matplotlib.pyplot as plt\n",
    "\n",
    "acc = history.history['acc']\n",
    "val_acc = history.history['val_acc']\n",
    "loss = history.history['loss']\n",
    "val_loss = history.history['val_loss']\n",
    "\n",
    "\n",
    "epochs = range(1, len(acc) +1)\n",
    "\n",
    "plt.plot(epochs, acc, 'bo', label='Training acc')\n",
    "plt.plot(epochs, val_acc, 'b', label='Validation acc')\n",
    "plt.title('Training and validation accuracy')\n",
    "plt.legend()\n",
    "\n",
    "plt.figure()\n",
    "\n",
    "plt.plot(epochs, loss, 'bo', label='Training loss')\n",
    "plt.plot(epochs, val_loss, 'b', label='Validation loss')\n",
    "plt.title('Training and validation loss')\n",
    "plt.legend()\n",
    "plt.show()"
   ]
  },
  {
   "cell_type": "code",
   "execution_count": null,
   "id": "71575507",
   "metadata": {},
   "outputs": [],
   "source": []
  }
 ],
 "metadata": {
  "kernelspec": {
   "display_name": "Python 3 (ipykernel)",
   "language": "python",
   "name": "python3"
  },
  "language_info": {
   "codemirror_mode": {
    "name": "ipython",
    "version": 3
   },
   "file_extension": ".py",
   "mimetype": "text/x-python",
   "name": "python",
   "nbconvert_exporter": "python",
   "pygments_lexer": "ipython3",
   "version": "3.9.0"
  },
  "metadata": {
   "interpreter": {
    "hash": "7f7ff6f2c8ebb045feb4f28546335f562c4e0570290fe4478899c7d8734b2105"
   }
  }
 },
 "nbformat": 4,
 "nbformat_minor": 5
}
