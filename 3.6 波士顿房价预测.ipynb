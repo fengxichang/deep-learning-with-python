{
 "cells": [
  {
   "cell_type": "code",
   "execution_count": 1,
   "id": "89d7031d",
   "metadata": {},
   "outputs": [],
   "source": [
    "from keras.datasets import boston_housing\n",
    "\n",
    "(train_data, train_targets), (test_data, test_targets) = boston_housing.load_data()"
   ]
  },
  {
   "cell_type": "code",
   "execution_count": 2,
   "id": "bbda268e",
   "metadata": {
    "scrolled": false
   },
   "outputs": [
    {
     "data": {
      "text/plain": [
       "array([  1.23247,   0.     ,   8.14   ,   0.     ,   0.538  ,   6.142  ,\n",
       "        91.7    ,   3.9769 ,   4.     , 307.     ,  21.     , 396.9    ,\n",
       "        18.72   ])"
      ]
     },
     "execution_count": 2,
     "metadata": {},
     "output_type": "execute_result"
    }
   ],
   "source": [
    "train_data[0]"
   ]
  },
  {
   "cell_type": "code",
   "execution_count": 3,
   "id": "1ff0dcff",
   "metadata": {},
   "outputs": [
    {
     "data": {
      "text/plain": [
       "(102, 13)"
      ]
     },
     "execution_count": 3,
     "metadata": {},
     "output_type": "execute_result"
    }
   ],
   "source": [
    "test_data.shape"
   ]
  },
  {
   "cell_type": "markdown",
   "id": "7cb51b61",
   "metadata": {},
   "source": [
    "### 数据标准化处理"
   ]
  },
  {
   "cell_type": "code",
   "execution_count": 4,
   "id": "10efc9e3",
   "metadata": {},
   "outputs": [],
   "source": [
    "mean = train_data.mean(axis=0)"
   ]
  },
  {
   "cell_type": "code",
   "execution_count": 5,
   "id": "b95a3d11",
   "metadata": {},
   "outputs": [
    {
     "data": {
      "text/plain": [
       "array([3.74511057e+00, 1.14801980e+01, 1.11044307e+01, 6.18811881e-02,\n",
       "       5.57355941e-01, 6.26708168e+00, 6.90106436e+01, 3.74027079e+00,\n",
       "       9.44059406e+00, 4.05898515e+02, 1.84759901e+01, 3.54783168e+02,\n",
       "       1.27408168e+01])"
      ]
     },
     "execution_count": 5,
     "metadata": {},
     "output_type": "execute_result"
    }
   ],
   "source": [
    "mean"
   ]
  },
  {
   "cell_type": "code",
   "execution_count": 6,
   "id": "117f78b2",
   "metadata": {},
   "outputs": [],
   "source": [
    "train_data -= mean"
   ]
  },
  {
   "cell_type": "code",
   "execution_count": 7,
   "id": "0a3eb2c9",
   "metadata": {},
   "outputs": [
    {
     "data": {
      "text/plain": [
       "array([-2.51264057e+00, -1.14801980e+01, -2.96443069e+00, -6.18811881e-02,\n",
       "       -1.93559406e-02, -1.25081683e-01,  2.26893564e+01,  2.36629208e-01,\n",
       "       -5.44059406e+00, -9.88985149e+01,  2.52400990e+00,  4.21168317e+01,\n",
       "        5.97918317e+00])"
      ]
     },
     "execution_count": 7,
     "metadata": {},
     "output_type": "execute_result"
    }
   ],
   "source": [
    "train_data[0]"
   ]
  },
  {
   "cell_type": "code",
   "execution_count": 8,
   "id": "21420c0c",
   "metadata": {},
   "outputs": [],
   "source": [
    "std = train_data.std(axis=0)"
   ]
  },
  {
   "cell_type": "code",
   "execution_count": 9,
   "id": "24d3bdc2",
   "metadata": {},
   "outputs": [],
   "source": [
    "train_data /= std"
   ]
  },
  {
   "cell_type": "code",
   "execution_count": 10,
   "id": "f7f81f59",
   "metadata": {},
   "outputs": [
    {
     "data": {
      "text/plain": [
       "array([[-0.27224633, -0.48361547, -0.43576161, ...,  1.14850044,\n",
       "         0.44807713,  0.8252202 ],\n",
       "       [-0.40342651,  2.99178419, -1.33391162, ..., -1.71818909,\n",
       "         0.43190599, -1.32920239],\n",
       "       [ 0.1249402 , -0.48361547,  1.0283258 , ...,  0.78447637,\n",
       "         0.22061726, -1.30850006],\n",
       "       ...,\n",
       "       [-0.40202987,  0.99079651, -0.7415148 , ..., -0.71712291,\n",
       "         0.07943894, -0.67776904],\n",
       "       [-0.17292018, -0.48361547,  1.24588095, ..., -1.71818909,\n",
       "        -0.98764362,  0.42083466],\n",
       "       [-0.40422614,  2.04394792, -1.20161456, ..., -1.30866202,\n",
       "         0.23317118, -1.15392266]])"
      ]
     },
     "execution_count": 10,
     "metadata": {},
     "output_type": "execute_result"
    }
   ],
   "source": [
    "train_data"
   ]
  },
  {
   "cell_type": "code",
   "execution_count": 11,
   "id": "db931cc9",
   "metadata": {},
   "outputs": [],
   "source": [
    "test_data -= mean\n",
    "test_data /= std"
   ]
  },
  {
   "cell_type": "markdown",
   "id": "02d236da",
   "metadata": {},
   "source": [
    "### 定义模型"
   ]
  },
  {
   "cell_type": "code",
   "execution_count": 12,
   "id": "997c39e2",
   "metadata": {},
   "outputs": [],
   "source": [
    "from keras import models\n",
    "from keras import layers\n",
    "\n",
    "def build_model():\n",
    "    model = models.Sequential()\n",
    "    model.add(layers.Dense(64, activation='relu', input_shape=(train_data.shape[1],)))\n",
    "    model.add(layers.Dense(64, activation='relu'))\n",
    "    model.add(layers.Dense(1))\n",
    "    model.compile(optimizer='rmsprop', loss='mse', metrics=['mae'])\n",
    "    \n",
    "    return model"
   ]
  },
  {
   "cell_type": "markdown",
   "id": "7cf63aea",
   "metadata": {},
   "source": [
    "### k折验证"
   ]
  },
  {
   "cell_type": "code",
   "execution_count": 13,
   "id": "b8b39dd7",
   "metadata": {},
   "outputs": [],
   "source": [
    "import numpy as np\n",
    "\n",
    "epochs = 128\n",
    "k = 4\n",
    "data_num = len(train_data) // k\n",
    "all_scores = []"
   ]
  },
  {
   "cell_type": "code",
   "execution_count": 14,
   "id": "ee452e12",
   "metadata": {},
   "outputs": [
    {
     "data": {
      "text/plain": [
       "101"
      ]
     },
     "execution_count": 14,
     "metadata": {},
     "output_type": "execute_result"
    }
   ],
   "source": [
    "data_num"
   ]
  },
  {
   "cell_type": "code",
   "execution_count": 15,
   "id": "943ee274",
   "metadata": {},
   "outputs": [
    {
     "name": "stdout",
     "output_type": "stream",
     "text": [
      "Metal device set to: Apple M1\n"
     ]
    },
    {
     "name": "stderr",
     "output_type": "stream",
     "text": [
      "2023-05-12 20:05:37.706911: W tensorflow/tsl/platform/profile_utils/cpu_utils.cc:128] Failed to get CPU frequency: 0 Hz\n"
     ]
    }
   ],
   "source": [
    "for i in range(k):\n",
    "    val_train_data = train_data[i*data_num: (i+1)*data_num]\n",
    "    val_train_targets = train_targets[i*data_num: (i+1)*data_num]\n",
    "    \n",
    "    partial_train_data = np.concatenate([train_data[:i*data_num], train_data[(i+1)*data_num:]], axis=0)\n",
    "    partial_train_targets = np.concatenate([train_targets[:i*data_num], train_targets[(i+1)*data_num:]], axis=0)\n",
    "    \n",
    "    model = build_model()\n",
    "    \n",
    "    model.fit(partial_train_data, partial_train_targets, epochs=epochs, batch_size=16, verbose=0)\n",
    "    val_mse, val_mae = model.evaluate(test_data, test_targets, verbose=0)\n",
    "    all_scores.append(val_mae)"
   ]
  },
  {
   "cell_type": "code",
   "execution_count": 16,
   "id": "01321a6b",
   "metadata": {},
   "outputs": [
    {
     "data": {
      "text/plain": [
       "[2.516313076019287, 2.8551647663116455, 2.630406141281128, 2.7907278537750244]"
      ]
     },
     "execution_count": 16,
     "metadata": {},
     "output_type": "execute_result"
    }
   ],
   "source": [
    "all_scores"
   ]
  },
  {
   "cell_type": "markdown",
   "id": "ed585fcf",
   "metadata": {},
   "source": [
    "np.mean(all_scores)"
   ]
  },
  {
   "cell_type": "markdown",
   "id": "9514ad33",
   "metadata": {},
   "source": [
    "### 保存每折验证结果"
   ]
  },
  {
   "cell_type": "code",
   "execution_count": 19,
   "id": "f27b647e",
   "metadata": {},
   "outputs": [
    {
     "name": "stdout",
     "output_type": "stream",
     "text": [
      "dict_keys(['loss', 'mae', 'val_loss', 'val_mae'])\n",
      "dict_keys(['loss', 'mae', 'val_loss', 'val_mae'])\n",
      "dict_keys(['loss', 'mae', 'val_loss', 'val_mae'])\n",
      "dict_keys(['loss', 'mae', 'val_loss', 'val_mae'])\n"
     ]
    }
   ],
   "source": [
    "num_epochs = 500\n",
    "all_mae_histories = []\n",
    "\n",
    "for i in range(k):\n",
    "    val_train_data = train_data[i*data_num: (i+1)*data_num]\n",
    "    val_train_targets = train_targets[i*data_num: (i+1)*data_num]\n",
    "    \n",
    "    partial_train_data = np.concatenate([train_data[:i*data_num], train_data[(i+1)*data_num:]], axis=0)\n",
    "    partial_train_targets = np.concatenate([train_targets[:i*data_num], train_targets[(i+1)*data_num:]], axis=0)\n",
    "    \n",
    "    model = build_model()\n",
    "    \n",
    "    history = model.fit(partial_train_data, partial_train_targets, validation_data=(val_train_data, val_train_targets),epochs=num_epochs, batch_size=16, verbose=0)\n",
    "    print(history.history.keys())\n",
    "    mae_history = history.history['val_mae']\n",
    "    all_mae_histories.append(mae_history)"
   ]
  },
  {
   "cell_type": "code",
   "execution_count": 20,
   "id": "754c06fc",
   "metadata": {},
   "outputs": [],
   "source": [
    "average_mae_history = [np.mean([x[i] for x in all_mae_histories]) for i in range(num_epochs)]"
   ]
  },
  {
   "cell_type": "code",
   "execution_count": 21,
   "id": "84776e02",
   "metadata": {},
   "outputs": [
    {
     "data": {
      "text/plain": [
       "[19.639942169189453,\n",
       " 16.472001552581787,\n",
       " 12.442573547363281,\n",
       " 8.646499872207642,\n",
       " 6.451321959495544,\n",
       " 5.279882431030273,\n",
       " 4.5015709400177,\n",
       " 4.036596655845642,\n",
       " 3.7287986874580383,\n",
       " 3.589330315589905,\n",
       " 3.3992576599121094,\n",
       " 3.2811736464500427,\n",
       " 3.1776252388954163,\n",
       " 3.094429135322571,\n",
       " 3.0422104001045227,\n",
       " 2.9351008534431458,\n",
       " 2.8998918533325195,\n",
       " 2.838963270187378,\n",
       " 2.830385982990265,\n",
       " 2.779206335544586,\n",
       " 2.7406468987464905,\n",
       " 2.7188549637794495,\n",
       " 2.6597344279289246,\n",
       " 2.6447134613990784,\n",
       " 2.63751357793808,\n",
       " 2.6494523882865906,\n",
       " 2.5959529280662537,\n",
       " 2.5805578231811523,\n",
       " 2.575019121170044,\n",
       " 2.585629403591156,\n",
       " 2.580200731754303,\n",
       " 2.5162887573242188,\n",
       " 2.5419376492500305,\n",
       " 2.58982115983963,\n",
       " 2.526302218437195,\n",
       " 2.55404269695282,\n",
       " 2.5469180941581726,\n",
       " 2.4973738193511963,\n",
       " 2.4865448474884033,\n",
       " 2.4716670513153076,\n",
       " 2.5057445764541626,\n",
       " 2.49660187959671,\n",
       " 2.4411070942878723,\n",
       " 2.473393678665161,\n",
       " 2.4790198802948,\n",
       " 2.457118332386017,\n",
       " 2.5114588737487793,\n",
       " 2.424005925655365,\n",
       " 2.5007770657539368,\n",
       " 2.4248576164245605,\n",
       " 2.4878737330436707,\n",
       " 2.4411243200302124,\n",
       " 2.4549422562122345,\n",
       " 2.4625840187072754,\n",
       " 2.460105240345001,\n",
       " 2.4347712993621826,\n",
       " 2.39020037651062,\n",
       " 2.432551383972168,\n",
       " 2.4234249591827393,\n",
       " 2.4052262902259827,\n",
       " 2.383164554834366,\n",
       " 2.372257739305496,\n",
       " 2.3919848203659058,\n",
       " 2.4068567156791687,\n",
       " 2.3984708189964294,\n",
       " 2.400663435459137,\n",
       " 2.3852898478507996,\n",
       " 2.3666939735412598,\n",
       " 2.3482286632061005,\n",
       " 2.4208067655563354,\n",
       " 2.386246919631958,\n",
       " 2.4543267488479614,\n",
       " 2.3619883954524994,\n",
       " 2.3782809376716614,\n",
       " 2.371178984642029,\n",
       " 2.4285471439361572,\n",
       " 2.389864921569824,\n",
       " 2.3429901599884033,\n",
       " 2.4877259135246277,\n",
       " 2.3146371841430664,\n",
       " 2.3773558139801025,\n",
       " 2.320711672306061,\n",
       " 2.34465491771698,\n",
       " 2.321117728948593,\n",
       " 2.3556362688541412,\n",
       " 2.43364480137825,\n",
       " 2.3365220427513123,\n",
       " 2.329038143157959,\n",
       " 2.413560152053833,\n",
       " 2.3837623596191406,\n",
       " 2.3647963106632233,\n",
       " 2.3734030723571777,\n",
       " 2.354975789785385,\n",
       " 2.3505646884441376,\n",
       " 2.3583086729049683,\n",
       " 2.3605851531028748,\n",
       " 2.326152205467224,\n",
       " 2.405288338661194,\n",
       " 2.355371743440628,\n",
       " 2.2961767613887787,\n",
       " 2.3205765187740326,\n",
       " 2.3476279079914093,\n",
       " 2.383000433444977,\n",
       " 2.3486581444740295,\n",
       " 2.329762637615204,\n",
       " 2.41264545917511,\n",
       " 2.306711792945862,\n",
       " 2.3473381996154785,\n",
       " 2.360607326030731,\n",
       " 2.3403944969177246,\n",
       " 2.394062578678131,\n",
       " 2.331707537174225,\n",
       " 2.367392420768738,\n",
       " 2.3101995289325714,\n",
       " 2.3343177437782288,\n",
       " 2.3395697474479675,\n",
       " 2.3431742787361145,\n",
       " 2.380886435508728,\n",
       " 2.335080921649933,\n",
       " 2.3273739218711853,\n",
       " 2.347135901451111,\n",
       " 2.321657568216324,\n",
       " 2.3935952186584473,\n",
       " 2.304596781730652,\n",
       " 2.3425674438476562,\n",
       " 2.3451118171215057,\n",
       " 2.33819442987442,\n",
       " 2.3691333532333374,\n",
       " 2.322674036026001,\n",
       " 2.387987494468689,\n",
       " 2.3632602095603943,\n",
       " 2.3433293104171753,\n",
       " 2.3431838750839233,\n",
       " 2.3608657717704773,\n",
       " 2.3560653924942017,\n",
       " 2.452769458293915,\n",
       " 2.3142091631889343,\n",
       " 2.329915404319763,\n",
       " 2.347026765346527,\n",
       " 2.364667296409607,\n",
       " 2.344960033893585,\n",
       " 2.4215678572654724,\n",
       " 2.3755571842193604,\n",
       " 2.414173424243927,\n",
       " 2.3774526119232178,\n",
       " 2.3389801383018494,\n",
       " 2.341969281435013,\n",
       " 2.3427988290786743,\n",
       " 2.35750275850296,\n",
       " 2.3901813626289368,\n",
       " 2.41182941198349,\n",
       " 2.37819567322731,\n",
       " 2.3547271490097046,\n",
       " 2.406223952770233,\n",
       " 2.3999604284763336,\n",
       " 2.342406988143921,\n",
       " 2.39015394449234,\n",
       " 2.406662881374359,\n",
       " 2.3529356122016907,\n",
       " 2.346026837825775,\n",
       " 2.3842647671699524,\n",
       " 2.380487322807312,\n",
       " 2.3501463532447815,\n",
       " 2.344783663749695,\n",
       " 2.3353188037872314,\n",
       " 2.364823579788208,\n",
       " 2.3458182215690613,\n",
       " 2.3591495156288147,\n",
       " 2.334587037563324,\n",
       " 2.374650239944458,\n",
       " 2.3754653930664062,\n",
       " 2.3810383081436157,\n",
       " 2.3164535760879517,\n",
       " 2.3900733590126038,\n",
       " 2.377946138381958,\n",
       " 2.3931884765625,\n",
       " 2.379732310771942,\n",
       " 2.4090306758880615,\n",
       " 2.362363278865814,\n",
       " 2.4116485118865967,\n",
       " 2.397454261779785,\n",
       " 2.351807475090027,\n",
       " 2.440467596054077,\n",
       " 2.3862301111221313,\n",
       " 2.359951615333557,\n",
       " 2.398741364479065,\n",
       " 2.4016857147216797,\n",
       " 2.3967570662498474,\n",
       " 2.364128351211548,\n",
       " 2.355236828327179,\n",
       " 2.470562756061554,\n",
       " 2.430431067943573,\n",
       " 2.373044431209564,\n",
       " 2.384039521217346,\n",
       " 2.3743882179260254,\n",
       " 2.3727442622184753,\n",
       " 2.363463580608368,\n",
       " 2.3267622590065002,\n",
       " 2.3923553228378296,\n",
       " 2.397127091884613,\n",
       " 2.3510084748268127,\n",
       " 2.3770360946655273,\n",
       " 2.350881576538086,\n",
       " 2.379550874233246,\n",
       " 2.4189098477363586,\n",
       " 2.3677196502685547,\n",
       " 2.3928259015083313,\n",
       " 2.3590332865715027,\n",
       " 2.3649325370788574,\n",
       " 2.445547580718994,\n",
       " 2.4022228717803955,\n",
       " 2.3810359835624695,\n",
       " 2.3997443318367004,\n",
       " 2.3691713213920593,\n",
       " 2.3737263679504395,\n",
       " 2.390567123889923,\n",
       " 2.37835031747818,\n",
       " 2.3581168055534363,\n",
       " 2.393843412399292,\n",
       " 2.3716350197792053,\n",
       " 2.3776211738586426,\n",
       " 2.3600799441337585,\n",
       " 2.4478063583374023,\n",
       " 2.3742361068725586,\n",
       " 2.46983939409256,\n",
       " 2.375785708427429,\n",
       " 2.4341484904289246,\n",
       " 2.3416258692741394,\n",
       " 2.391897439956665,\n",
       " 2.3965224623680115,\n",
       " 2.404044032096863,\n",
       " 2.4136975407600403,\n",
       " 2.3667368292808533,\n",
       " 2.3593552112579346,\n",
       " 2.462145686149597,\n",
       " 2.4216580390930176,\n",
       " 2.3984686732292175,\n",
       " 2.4333913326263428,\n",
       " 2.405925989151001,\n",
       " 2.41441947221756,\n",
       " 2.4198448061943054,\n",
       " 2.408838391304016,\n",
       " 2.455880343914032,\n",
       " 2.3768274784088135,\n",
       " 2.4103466868400574,\n",
       " 2.4105876684188843,\n",
       " 2.43695467710495,\n",
       " 2.4137767553329468,\n",
       " 2.411220610141754,\n",
       " 2.459100067615509,\n",
       " 2.419846832752228,\n",
       " 2.367823898792267,\n",
       " 2.4423603415489197,\n",
       " 2.41239196062088,\n",
       " 2.4500306248664856,\n",
       " 2.4284452199935913,\n",
       " 2.4142897725105286,\n",
       " 2.4705585837364197,\n",
       " 2.4096745252609253,\n",
       " 2.4061455130577087,\n",
       " 2.4258638620376587,\n",
       " 2.3892303109169006,\n",
       " 2.403010308742523,\n",
       " 2.407908320426941,\n",
       " 2.442933976650238,\n",
       " 2.501546025276184,\n",
       " 2.411706566810608,\n",
       " 2.4323261380195618,\n",
       " 2.395601987838745,\n",
       " 2.4238248467445374,\n",
       " 2.4239251017570496,\n",
       " 2.421819508075714,\n",
       " 2.3827566504478455,\n",
       " 2.4113482236862183,\n",
       " 2.3914403915405273,\n",
       " 2.483448326587677,\n",
       " 2.4433616995811462,\n",
       " 2.399296462535858,\n",
       " 2.4067496061325073,\n",
       " 2.466177463531494,\n",
       " 2.44803923368454,\n",
       " 2.4427916407585144,\n",
       " 2.426569640636444,\n",
       " 2.4801294207572937,\n",
       " 2.4528226256370544,\n",
       " 2.455085039138794,\n",
       " 2.4033217430114746,\n",
       " 2.4019625782966614,\n",
       " 2.4167245626449585,\n",
       " 2.4587039947509766,\n",
       " 2.502898633480072,\n",
       " 2.440117061138153,\n",
       " 2.4144986867904663,\n",
       " 2.455108165740967,\n",
       " 2.3873592615127563,\n",
       " 2.4451335072517395,\n",
       " 2.4514854550361633,\n",
       " 2.4112918972969055,\n",
       " 2.431345522403717,\n",
       " 2.4574339389801025,\n",
       " 2.4310290217399597,\n",
       " 2.41034597158432,\n",
       " 2.4863937497138977,\n",
       " 2.399816930294037,\n",
       " 2.4557406902313232,\n",
       " 2.441980004310608,\n",
       " 2.447163760662079,\n",
       " 2.4100091457366943,\n",
       " 2.506765842437744,\n",
       " 2.4516197443008423,\n",
       " 2.4460962414741516,\n",
       " 2.4505451917648315,\n",
       " 2.415104627609253,\n",
       " 2.512178122997284,\n",
       " 2.3956388235092163,\n",
       " 2.453348994255066,\n",
       " 2.5030811429023743,\n",
       " 2.4299570322036743,\n",
       " 2.413401424884796,\n",
       " 2.461768329143524,\n",
       " 2.41778427362442,\n",
       " 2.4862679839134216,\n",
       " 2.5600506067276,\n",
       " 2.4511128664016724,\n",
       " 2.439749598503113,\n",
       " 2.492421865463257,\n",
       " 2.4431490898132324,\n",
       " 2.4939948320388794,\n",
       " 2.4575266242027283,\n",
       " 2.493797481060028,\n",
       " 2.48638117313385,\n",
       " 2.5658907294273376,\n",
       " 2.466208040714264,\n",
       " 2.4677985310554504,\n",
       " 2.4283838272094727,\n",
       " 2.5116333961486816,\n",
       " 2.466461181640625,\n",
       " 2.451019525527954,\n",
       " 2.5109593868255615,\n",
       " 2.451133906841278,\n",
       " 2.4301518201828003,\n",
       " 2.496177077293396,\n",
       " 2.45561546087265,\n",
       " 2.463552415370941,\n",
       " 2.4462790489196777,\n",
       " 2.46618789434433,\n",
       " 2.4613718390464783,\n",
       " 2.4510457515716553,\n",
       " 2.4751189947128296,\n",
       " 2.4516260623931885,\n",
       " 2.4878534078598022,\n",
       " 2.5137866735458374,\n",
       " 2.467914879322052,\n",
       " 2.4664788246154785,\n",
       " 2.475043475627899,\n",
       " 2.4336800575256348,\n",
       " 2.5191479921340942,\n",
       " 2.519747316837311,\n",
       " 2.4748476147651672,\n",
       " 2.5355172753334045,\n",
       " 2.51261305809021,\n",
       " 2.4473531246185303,\n",
       " 2.481268346309662,\n",
       " 2.503061532974243,\n",
       " 2.544727385044098,\n",
       " 2.5395179390907288,\n",
       " 2.483721375465393,\n",
       " 2.4993303418159485,\n",
       " 2.4862841963768005,\n",
       " 2.5105523467063904,\n",
       " 2.497312009334564,\n",
       " 2.515676498413086,\n",
       " 2.463264584541321,\n",
       " 2.453461170196533,\n",
       " 2.558990240097046,\n",
       " 2.4824816584587097,\n",
       " 2.485587477684021,\n",
       " 2.5124391913414,\n",
       " 2.48158997297287,\n",
       " 2.5743154883384705,\n",
       " 2.4761268496513367,\n",
       " 2.4967471957206726,\n",
       " 2.481671392917633,\n",
       " 2.4863486886024475,\n",
       " 2.489277422428131,\n",
       " 2.494344115257263,\n",
       " 2.4600767493247986,\n",
       " 2.572319269180298,\n",
       " 2.4477431178092957,\n",
       " 2.49371999502182,\n",
       " 2.4626539945602417,\n",
       " 2.4736807346343994,\n",
       " 2.4799097776412964,\n",
       " 2.5103343725204468,\n",
       " 2.49592924118042,\n",
       " 2.5269899368286133,\n",
       " 2.479711890220642,\n",
       " 2.5547224283218384,\n",
       " 2.47271466255188,\n",
       " 2.5800443291664124,\n",
       " 2.481356978416443,\n",
       " 2.501432180404663,\n",
       " 2.4616870284080505,\n",
       " 2.449796438217163,\n",
       " 2.4870922565460205,\n",
       " 2.4904479384422302,\n",
       " 2.5149434208869934,\n",
       " 2.476537823677063,\n",
       " 2.4820305705070496,\n",
       " 2.5427698493003845,\n",
       " 2.5023680925369263,\n",
       " 2.4930134415626526,\n",
       " 2.4933934211730957,\n",
       " 2.5704320073127747,\n",
       " 2.505568265914917,\n",
       " 2.564389228820801,\n",
       " 2.5021886229515076,\n",
       " 2.549904525279999,\n",
       " 2.503544270992279,\n",
       " 2.605764150619507,\n",
       " 2.514297127723694,\n",
       " 2.527821183204651,\n",
       " 2.5009676218032837,\n",
       " 2.480415999889374,\n",
       " 2.519825756549835,\n",
       " 2.4806602001190186,\n",
       " 2.5561951994895935,\n",
       " 2.5201765298843384,\n",
       " 2.4925697445869446,\n",
       " 2.541939854621887,\n",
       " 2.517490327358246,\n",
       " 2.5496915578842163,\n",
       " 2.546174943447113,\n",
       " 2.5311282873153687,\n",
       " 2.5728219747543335,\n",
       " 2.5374502539634705,\n",
       " 2.531840145587921,\n",
       " 2.6071990728378296,\n",
       " 2.5319823026657104,\n",
       " 2.5122687816619873,\n",
       " 2.5090721249580383,\n",
       " 2.5049888491630554,\n",
       " 2.586241602897644,\n",
       " 2.531263530254364,\n",
       " 2.5737385749816895,\n",
       " 2.5364303588867188,\n",
       " 2.5110746026039124,\n",
       " 2.5290014147758484,\n",
       " 2.5513449907302856,\n",
       " 2.5723093152046204,\n",
       " 2.51921683549881,\n",
       " 2.5505452752113342,\n",
       " 2.53037565946579,\n",
       " 2.5023664832115173,\n",
       " 2.5326062440872192,\n",
       " 2.5620042085647583,\n",
       " 2.584659993648529,\n",
       " 2.546645402908325,\n",
       " 2.564450263977051,\n",
       " 2.5194589495658875,\n",
       " 2.5317673683166504,\n",
       " 2.552681565284729,\n",
       " 2.576417088508606,\n",
       " 2.626881718635559,\n",
       " 2.54435271024704,\n",
       " 2.5672618746757507,\n",
       " 2.6213818788528442,\n",
       " 2.567057430744171,\n",
       " 2.5622644424438477,\n",
       " 2.5268173813819885,\n",
       " 2.5422569513320923,\n",
       " 2.5702781081199646,\n",
       " 2.563810884952545,\n",
       " 2.5779396891593933,\n",
       " 2.596595525741577,\n",
       " 2.5627442598342896,\n",
       " 2.6092779636383057,\n",
       " 2.5919228196144104,\n",
       " 2.5903566479682922,\n",
       " 2.5166826844215393,\n",
       " 2.5749167799949646,\n",
       " 2.5521329045295715,\n",
       " 2.62841933965683,\n",
       " 2.556612551212311,\n",
       " 2.575910806655884,\n",
       " 2.5289666652679443,\n",
       " 2.5571879148483276,\n",
       " 2.6310881972312927,\n",
       " 2.5624250173568726,\n",
       " 2.531097650527954,\n",
       " 2.579832077026367,\n",
       " 2.581218957901001,\n",
       " 2.61232990026474,\n",
       " 2.5834895372390747,\n",
       " 2.5623064637184143,\n",
       " 2.61036878824234,\n",
       " 2.6167925000190735,\n",
       " 2.5867884159088135,\n",
       " 2.5441110730171204,\n",
       " 2.571855127811432]"
      ]
     },
     "execution_count": 21,
     "metadata": {},
     "output_type": "execute_result"
    }
   ],
   "source": [
    "average_mae_history"
   ]
  },
  {
   "cell_type": "code",
   "execution_count": 23,
   "id": "eb4a2265",
   "metadata": {},
   "outputs": [
    {
     "data": {
      "image/png": "[encoded data removed]",
      "text/plain": [
       "<Figure size 640x480 with 1 Axes>"
      ]
     },
     "metadata": {},
     "output_type": "display_data"
    }
   ],
   "source": [
    "import matplotlib.pyplot as plt\n",
    "plt.plot(range(1, len(average_mae_history) + 1), average_mae_history)\n",
    "plt.xlabel('Epochs')\n",
    "plt.ylabel('Validation MAE')\n",
    "plt.show()"
   ]
  },
  {
   "cell_type": "code",
   "execution_count": 24,
   "id": "ecba72a1",
   "metadata": {},
   "outputs": [
    {
     "ename": "IndentationError",
     "evalue": "expected an indented block (3063614458.py, line 4)",
     "output_type": "error",
     "traceback": [
      "\u001b[0;36m  Cell \u001b[0;32mIn[24], line 4\u001b[0;36m\u001b[0m\n\u001b[0;31m    if smoothed_points:\u001b[0m\n\u001b[0m    ^\u001b[0m\n\u001b[0;31mIndentationError\u001b[0m\u001b[0;31m:\u001b[0m expected an indented block\n"
     ]
    }
   ],
   "source": []
  },
  {
   "cell_type": "code",
   "execution_count": null,
   "id": "be246409",
   "metadata": {},
   "outputs": [],
   "source": []
  }
 ],
 "metadata": {
  "kernelspec": {
   "display_name": "Python 3 (ipykernel)",
   "language": "python",
   "name": "python3"
  },
  "language_info": {
   "codemirror_mode": {
    "name": "ipython",
    "version": 3
   },
   "file_extension": ".py",
   "mimetype": "text/x-python",
   "name": "python",
   "nbconvert_exporter": "python",
   "pygments_lexer": "ipython3",
   "version": "3.9.0"
  }
 },
 "nbformat": 4,
 "nbformat_minor": 5
}
