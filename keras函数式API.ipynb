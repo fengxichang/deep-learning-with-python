{
 "cells": [
  {
   "cell_type": "markdown",
   "id": "061cad09",
   "metadata": {},
   "source": [
    "### 构建多输入模型"
   ]
  },
  {
   "cell_type": "code",
   "execution_count": 2,
   "id": "d384c6f6",
   "metadata": {},
   "outputs": [
    {
     "name": "stdout",
     "output_type": "stream",
     "text": [
      "Metal device set to: Apple M1\n"
     ]
    }
   ],
   "source": [
    "from keras.models import Model\n",
    "from keras import layers\n",
    "from keras import Input\n",
    "\n",
    "text_voca_size = 10000\n",
    "question_voca_size = 10000\n",
    "answer_voca_size = 500\n",
    "\n",
    "text_input = Input(shape=(None,), dtype='int32', name='text')\n",
    "embedded_text = layers.Embedding(text_voca_size, 64)(text_input)\n",
    "encoded_text = layers.LSTM(32)(embedded_text)\n",
    "\n",
    "question_input = Input(shape=(None,), dtype='int32', name='question')\n",
    "embedded_question = layers.Embedding(question_voca_size, 32)(question_input)\n",
    "encoded_question = layers.LSTM(16)(embedded_question)\n",
    "\n",
    "# 将编码后的问题和文本连接在一起\n",
    "concatenated = layers.concatenate([encoded_text, encoded_question], axis=1)\n",
    "\n",
    "# 最后添加一个softmax分类器\n",
    "answer = layers.Dense(answer_voca_size, activation='softmax')(concatenated)"
   ]
  },
  {
   "cell_type": "code",
   "execution_count": 3,
   "id": "73db4507",
   "metadata": {},
   "outputs": [],
   "source": [
    "model = Model([text_input, question_input], answer)\n",
    "model.compile(optimizer='rmsprop', loss='categorical_crossentropy',\n",
    "             metrics=['acc'])"
   ]
  },
  {
   "cell_type": "markdown",
   "id": "80b5e9b5",
   "metadata": {},
   "source": [
    "### 生成虚拟数据"
   ]
  },
  {
   "cell_type": "code",
   "execution_count": 13,
   "id": "9020527e",
   "metadata": {},
   "outputs": [],
   "source": [
    "import numpy as np\n",
    "import keras\n",
    "\n",
    "num_samples = 1000\n",
    "max_len = 100\n",
    "text = np.random.randint(1, text_voca_size, size=(num_samples, max_len))"
   ]
  },
  {
   "cell_type": "code",
   "execution_count": 14,
   "id": "9139c0b2",
   "metadata": {},
   "outputs": [
    {
     "data": {
      "text/plain": [
       "(1000, 100)"
      ]
     },
     "execution_count": 14,
     "metadata": {},
     "output_type": "execute_result"
    }
   ],
   "source": [
    "text.shape"
   ]
  },
  {
   "cell_type": "code",
   "execution_count": 15,
   "id": "519dbfaf",
   "metadata": {},
   "outputs": [
    {
     "data": {
      "text/plain": [
       "array([6657, 2460, 7077, 9568, 3680, 9910, 2974, 6138, 5375, 7921, 7283,\n",
       "       2067, 5807, 8711, 9730, 6762, 1221, 2258, 7663, 5553, 2236, 4218,\n",
       "       6638, 7459, 5634, 4795, 6290, 5996, 1320, 4690, 9846, 6829, 6525,\n",
       "       5242,  264, 3801, 6416, 2106, 3270, 8523, 9642, 5348, 3160, 5627,\n",
       "       5469, 7359,  490, 9250, 6586, 4441, 6356, 6290, 1913, 2573, 1597,\n",
       "       4766,   42, 9897, 3994, 9232, 1663, 1985, 3936,  452, 8294, 2885,\n",
       "       8121, 1905, 9609, 4362, 5328, 9036, 8870, 5692,   70, 3698, 7818,\n",
       "       8795, 8818,  704, 3630, 9636, 5214, 1361,  529, 2326, 5785, 1605,\n",
       "       6056, 7764,  436, 8234,  245, 7949, 3545, 7744, 6608, 3426, 3305,\n",
       "       3920])"
      ]
     },
     "execution_count": 15,
     "metadata": {},
     "output_type": "execute_result"
    }
   ],
   "source": [
    "text[0]"
   ]
  },
  {
   "cell_type": "code",
   "execution_count": 16,
   "id": "fa23ebf7",
   "metadata": {},
   "outputs": [],
   "source": [
    "question = np.random.randint(1, question_voca_size, size=(num_samples, max_len))"
   ]
  },
  {
   "cell_type": "code",
   "execution_count": 17,
   "id": "423b6e3c",
   "metadata": {},
   "outputs": [
    {
     "data": {
      "text/plain": [
       "(1000, 100)"
      ]
     },
     "execution_count": 17,
     "metadata": {},
     "output_type": "execute_result"
    }
   ],
   "source": [
    "question.shape"
   ]
  },
  {
   "cell_type": "code",
   "execution_count": 18,
   "id": "6d421b2f",
   "metadata": {},
   "outputs": [],
   "source": [
    "answers = np.random.randint(answer_voca_size, size=(num_samples))\n",
    "answers = keras.utils.to_categorical(answers, answer_voca_size)"
   ]
  },
  {
   "cell_type": "code",
   "execution_count": 19,
   "id": "a77e111d",
   "metadata": {},
   "outputs": [
    {
     "name": "stdout",
     "output_type": "stream",
     "text": [
      "Epoch 1/10\n"
     ]
    },
    {
     "name": "stderr",
     "output_type": "stream",
     "text": [
      "2023-05-23 21:14:23.916560: W tensorflow/tsl/platform/profile_utils/cpu_utils.cc:128] Failed to get CPU frequency: 0 Hz\n"
     ]
    },
    {
     "name": "stdout",
     "output_type": "stream",
     "text": [
      "8/8 [==============================] - 2s 102ms/step - loss: 6.2145 - acc: 0.0000e+00\n",
      "Epoch 2/10\n",
      "8/8 [==============================] - 0s 50ms/step - loss: 6.1947 - acc: 0.0230\n",
      "Epoch 3/10\n",
      "8/8 [==============================] - 0s 56ms/step - loss: 6.1333 - acc: 0.0020\n",
      "Epoch 4/10\n",
      "8/8 [==============================] - 0s 53ms/step - loss: 6.0600 - acc: 0.0070\n",
      "Epoch 5/10\n",
      "8/8 [==============================] - 0s 49ms/step - loss: 5.9984 - acc: 0.0090\n",
      "Epoch 6/10\n",
      "8/8 [==============================] - 0s 56ms/step - loss: 5.9394 - acc: 0.0120\n",
      "Epoch 7/10\n",
      "8/8 [==============================] - 0s 51ms/step - loss: 5.8367 - acc: 0.0160\n",
      "Epoch 8/10\n",
      "8/8 [==============================] - 0s 51ms/step - loss: 5.7446 - acc: 0.0250\n",
      "Epoch 9/10\n",
      "8/8 [==============================] - 0s 49ms/step - loss: 5.6483 - acc: 0.0320\n",
      "Epoch 10/10\n",
      "8/8 [==============================] - 0s 45ms/step - loss: 5.5678 - acc: 0.0380\n"
     ]
    }
   ],
   "source": [
    "history = model.fit([text, question], answers, epochs=10, batch_size=128)"
   ]
  },
  {
   "cell_type": "code",
   "execution_count": null,
   "id": "65a53c06",
   "metadata": {},
   "outputs": [],
   "source": []
  }
 ],
 "metadata": {
  "kernelspec": {
   "display_name": "Python 3 (ipykernel)",
   "language": "python",
   "name": "python3"
  },
  "language_info": {
   "codemirror_mode": {
    "name": "ipython",
    "version": 3
   },
   "file_extension": ".py",
   "mimetype": "text/x-python",
   "name": "python",
   "nbconvert_exporter": "python",
   "pygments_lexer": "ipython3",
   "version": "3.9.0"
  }
 },
 "nbformat": 4,
 "nbformat_minor": 5
}
